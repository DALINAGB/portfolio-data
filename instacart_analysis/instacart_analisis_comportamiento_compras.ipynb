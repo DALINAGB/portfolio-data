{
  "cells": [
    {
      "cell_type": "markdown",
      "id": "3Xg_RQfnafXz",
      "metadata": {
        "editable": true,
        "id": "3Xg_RQfnafXz",
        "tags": []
      },
      "source": [
        "# ¡Llena ese carrito!"
      ]
    },
    {
      "cell_type": "markdown",
      "id": "mhIvmmkW414q",
      "metadata": {
        "id": "mhIvmmkW414q"
      },
      "source": [
        "# Introducción\n",
        "\n",
        "Instacart es una plataforma de entregas de comestibles donde la clientela puede registrar un pedido y hacer que se lo entreguen, similar a Uber Eats y Door Dash.\n",
        "El conjunto de datos que te hemos proporcionado tiene modificaciones del original. Redujimos el tamaño del conjunto para que tus cálculos se hicieran más rápido e introdujimos valores ausentes y duplicados. Tuvimos cuidado de conservar las distribuciones de los datos originales cuando hicimos los cambios.\n",
        "\n",
        "Debes completar tres pasos. Para cada uno de ellos, escribe una breve introducción que refleje con claridad cómo pretendes resolver cada paso, y escribe párrafos explicatorios que justifiquen tus decisiones al tiempo que avanzas en tu solución.  También escribe una conclusión que resuma tus hallazgos y elecciones.\n"
      ]
    },
    {
      "cell_type": "markdown",
      "id": "3MbyzpOQZ5Or",
      "metadata": {
        "id": "3MbyzpOQZ5Or"
      },
      "source": [
        "## Diccionario de datos\n",
        "\n",
        "Hay cinco tablas en el conjunto de datos, y tendrás que usarlas todas para hacer el preprocesamiento de datos y el análisis exploratorio de datos. A continuación se muestra un diccionario de datos que enumera las columnas de cada tabla y describe los datos que contienen.\n",
        "\n",
        "- `instacart_orders.csv`: cada fila corresponde a un pedido en la aplicación Instacart.\n",
        "    - `'order_id'`: número de ID que identifica de manera única cada pedido.\n",
        "    - `'user_id'`: número de ID que identifica de manera única la cuenta de cada cliente.\n",
        "    - `'order_number'`: el número de veces que este cliente ha hecho un pedido.\n",
        "    - `'order_dow'`: día de la semana en que se hizo el pedido (0 si es domingo).\n",
        "    - `'order_hour_of_day'`: hora del día en que se hizo el pedido.\n",
        "    - `'days_since_prior_order'`: número de días transcurridos desde que este cliente hizo su pedido anterior.\n",
        "- `products.csv`: cada fila corresponde a un producto único que pueden comprar los clientes.\n",
        "    - `'product_id'`: número ID que identifica de manera única cada producto.\n",
        "    - `'product_name'`: nombre del producto.\n",
        "    - `'aisle_id'`: número ID que identifica de manera única cada categoría de pasillo de víveres.\n",
        "    - `'department_id'`: número ID que identifica de manera única cada departamento de víveres.\n",
        "- `order_products.csv`: cada fila corresponde a un artículo pedido en un pedido.\n",
        "    - `'order_id'`: número de ID que identifica de manera única cada pedido.\n",
        "    - `'product_id'`: número ID que identifica de manera única cada producto.\n",
        "    - `'add_to_cart_order'`: el orden secuencial en el que se añadió cada artículo en el carrito.\n",
        "    - `'reordered'`: 0 si el cliente nunca ha pedido este producto antes, 1 si lo ha pedido.\n",
        "- `aisles.csv`\n",
        "    - `'aisle_id'`: número ID que identifica de manera única cada categoría de pasillo de víveres.\n",
        "    - `'aisle'`: nombre del pasillo.\n",
        "- `departments.csv`\n",
        "    - `'department_id'`: número ID que identifica de manera única cada departamento de víveres.\n",
        "    - `'department'`: nombre del departamento."
      ]
    },
    {
      "cell_type": "markdown",
      "id": "n3Ha_cNSZ8lK",
      "metadata": {
        "id": "n3Ha_cNSZ8lK"
      },
      "source": [
        "# Paso 1. Descripción de los datos\n",
        "\n",
        "Lee los archivos de datos (`/datasets/instacart_orders.csv`, `/datasets/products.csv`, `/datasets/aisles.csv`, `/datasets/departments.csv` y `/datasets/order_products.csv`) con `pd.read_csv()` usando los parámetros adecuados para leer los datos correctamente. Verifica la información para cada DataFrame creado.\n"
      ]
    },
    {
      "cell_type": "markdown",
      "id": "OmlQPLlyaAfR",
      "metadata": {
        "id": "OmlQPLlyaAfR"
      },
      "source": [
        "## Plan de solución\n",
        "El objetivo de este paso es cargar los datos, obtener una visión general de su estructura y contenido, e identificar problemas iniciales como valores ausentes o tipos de datos incorrectos.\n",
        "\n",
        "1. Carga de Datos: Se cargarán los archivos CSV proporcionados.\n",
        "2. Para cada DataFrame cargado se realizarán las siguientes verificaciones:\n",
        "* df.info(): Para obtener un resumen conciso del DataFrame, incluyendo el número de entradas, el conteo de valores no nulos por columna y el tipo de dato (Dtype) de cada columna.\n",
        "* df.head(): Para visualizar las primeras filas del DataFrame y tener una idea del formato y contenido de los datos.\n",
        "3. Verificación de Valores Ausentes: Se utilizará df.isnull().sum() para identificar y cuantificar los valores ausentes. Este paso es crucial para entender la completitud de los datos y planificar futuras estrategias de imputación o manejo de datos faltantes."
      ]
    },
    {
      "cell_type": "code",
      "execution_count": null,
      "id": "fbf1adab",
      "metadata": {
        "id": "fbf1adab"
      },
      "outputs": [],
      "source": [
        "# importar librerías\n",
        "import pandas as pd\n",
        "import matplotlib.pyplot as plt"
      ]
    },
    {
      "cell_type": "code",
      "execution_count": null,
      "id": "ad36396d",
      "metadata": {
        "id": "ad36396d"
      },
      "outputs": [],
      "source": [
        "# leer conjuntos de datos en los DataFrames\n",
        "df_instacart_orders = pd.read_csv('/datasets/instacart_orders.csv', sep=';')\n",
        "df_products = pd.read_csv('/datasets/products.csv', sep=';')\n",
        "df_aisles = pd.read_csv('/datasets/aisles.csv', sep=';')\n",
        "df_departments = pd.read_csv('/datasets/departments.csv', sep=';')\n",
        "df_order_products = pd.read_csv('/datasets/order_products.csv', sep=';')"
      ]
    },
    {
      "cell_type": "code",
      "execution_count": null,
      "id": "ad6a1efa",
      "metadata": {
        "id": "ad6a1efa",
        "outputId": "9f832207-f30f-43a1-859b-226c5ccddca7"
      },
      "outputs": [
        {
          "name": "stdout",
          "output_type": "stream",
          "text": [
            "<class 'pandas.core.frame.DataFrame'>\n",
            "RangeIndex: 478967 entries, 0 to 478966\n",
            "Data columns (total 6 columns):\n",
            " #   Column                  Non-Null Count   Dtype  \n",
            "---  ------                  --------------   -----  \n",
            " 0   order_id                478967 non-null  int64  \n",
            " 1   user_id                 478967 non-null  int64  \n",
            " 2   order_number            478967 non-null  int64  \n",
            " 3   order_dow               478967 non-null  int64  \n",
            " 4   order_hour_of_day       478967 non-null  int64  \n",
            " 5   days_since_prior_order  450148 non-null  float64\n",
            "dtypes: float64(1), int64(5)\n",
            "memory usage: 21.9 MB\n"
          ]
        },
        {
          "data": {
            "text/html": [
              "<div>\n",
              "<style scoped>\n",
              "    .dataframe tbody tr th:only-of-type {\n",
              "        vertical-align: middle;\n",
              "    }\n",
              "\n",
              "    .dataframe tbody tr th {\n",
              "        vertical-align: top;\n",
              "    }\n",
              "\n",
              "    .dataframe thead th {\n",
              "        text-align: right;\n",
              "    }\n",
              "</style>\n",
              "<table border=\"1\" class=\"dataframe\">\n",
              "  <thead>\n",
              "    <tr style=\"text-align: right;\">\n",
              "      <th></th>\n",
              "      <th>order_id</th>\n",
              "      <th>user_id</th>\n",
              "      <th>order_number</th>\n",
              "      <th>order_dow</th>\n",
              "      <th>order_hour_of_day</th>\n",
              "      <th>days_since_prior_order</th>\n",
              "    </tr>\n",
              "  </thead>\n",
              "  <tbody>\n",
              "    <tr>\n",
              "      <th>0</th>\n",
              "      <td>1515936</td>\n",
              "      <td>183418</td>\n",
              "      <td>11</td>\n",
              "      <td>6</td>\n",
              "      <td>13</td>\n",
              "      <td>30.0</td>\n",
              "    </tr>\n",
              "    <tr>\n",
              "      <th>1</th>\n",
              "      <td>1690866</td>\n",
              "      <td>163593</td>\n",
              "      <td>5</td>\n",
              "      <td>5</td>\n",
              "      <td>12</td>\n",
              "      <td>9.0</td>\n",
              "    </tr>\n",
              "    <tr>\n",
              "      <th>2</th>\n",
              "      <td>1454967</td>\n",
              "      <td>39980</td>\n",
              "      <td>4</td>\n",
              "      <td>5</td>\n",
              "      <td>19</td>\n",
              "      <td>2.0</td>\n",
              "    </tr>\n",
              "    <tr>\n",
              "      <th>3</th>\n",
              "      <td>1768857</td>\n",
              "      <td>82516</td>\n",
              "      <td>56</td>\n",
              "      <td>0</td>\n",
              "      <td>20</td>\n",
              "      <td>10.0</td>\n",
              "    </tr>\n",
              "    <tr>\n",
              "      <th>4</th>\n",
              "      <td>3007858</td>\n",
              "      <td>196724</td>\n",
              "      <td>2</td>\n",
              "      <td>4</td>\n",
              "      <td>12</td>\n",
              "      <td>17.0</td>\n",
              "    </tr>\n",
              "  </tbody>\n",
              "</table>\n",
              "</div>"
            ],
            "text/plain": [
              "   order_id  user_id  order_number  order_dow  order_hour_of_day  \\\n",
              "0   1515936   183418            11          6                 13   \n",
              "1   1690866   163593             5          5                 12   \n",
              "2   1454967    39980             4          5                 19   \n",
              "3   1768857    82516            56          0                 20   \n",
              "4   3007858   196724             2          4                 12   \n",
              "\n",
              "   days_since_prior_order  \n",
              "0                    30.0  \n",
              "1                     9.0  \n",
              "2                     2.0  \n",
              "3                    10.0  \n",
              "4                    17.0  "
            ]
          },
          "execution_count": 3,
          "metadata": {},
          "output_type": "execute_result"
        }
      ],
      "source": [
        "# mostrar información del DataFrame\n",
        "df_instacart_orders.info()\n",
        "# mostrar primeras filas\n",
        "df_instacart_orders.head()"
      ]
    },
    {
      "cell_type": "code",
      "execution_count": null,
      "id": "5130e05e",
      "metadata": {
        "id": "5130e05e",
        "outputId": "b746a4c2-ecc8-48c5-e1cc-8ad75ecf2138"
      },
      "outputs": [
        {
          "name": "stdout",
          "output_type": "stream",
          "text": [
            "<class 'pandas.core.frame.DataFrame'>\n",
            "RangeIndex: 49694 entries, 0 to 49693\n",
            "Data columns (total 4 columns):\n",
            " #   Column         Non-Null Count  Dtype \n",
            "---  ------         --------------  ----- \n",
            " 0   product_id     49694 non-null  int64 \n",
            " 1   product_name   48436 non-null  object\n",
            " 2   aisle_id       49694 non-null  int64 \n",
            " 3   department_id  49694 non-null  int64 \n",
            "dtypes: int64(3), object(1)\n",
            "memory usage: 1.5+ MB\n"
          ]
        },
        {
          "data": {
            "text/html": [
              "<div>\n",
              "<style scoped>\n",
              "    .dataframe tbody tr th:only-of-type {\n",
              "        vertical-align: middle;\n",
              "    }\n",
              "\n",
              "    .dataframe tbody tr th {\n",
              "        vertical-align: top;\n",
              "    }\n",
              "\n",
              "    .dataframe thead th {\n",
              "        text-align: right;\n",
              "    }\n",
              "</style>\n",
              "<table border=\"1\" class=\"dataframe\">\n",
              "  <thead>\n",
              "    <tr style=\"text-align: right;\">\n",
              "      <th></th>\n",
              "      <th>product_id</th>\n",
              "      <th>product_name</th>\n",
              "      <th>aisle_id</th>\n",
              "      <th>department_id</th>\n",
              "    </tr>\n",
              "  </thead>\n",
              "  <tbody>\n",
              "    <tr>\n",
              "      <th>0</th>\n",
              "      <td>1</td>\n",
              "      <td>Chocolate Sandwich Cookies</td>\n",
              "      <td>61</td>\n",
              "      <td>19</td>\n",
              "    </tr>\n",
              "    <tr>\n",
              "      <th>1</th>\n",
              "      <td>2</td>\n",
              "      <td>All-Seasons Salt</td>\n",
              "      <td>104</td>\n",
              "      <td>13</td>\n",
              "    </tr>\n",
              "    <tr>\n",
              "      <th>2</th>\n",
              "      <td>3</td>\n",
              "      <td>Robust Golden Unsweetened Oolong Tea</td>\n",
              "      <td>94</td>\n",
              "      <td>7</td>\n",
              "    </tr>\n",
              "    <tr>\n",
              "      <th>3</th>\n",
              "      <td>4</td>\n",
              "      <td>Smart Ones Classic Favorites Mini Rigatoni Wit...</td>\n",
              "      <td>38</td>\n",
              "      <td>1</td>\n",
              "    </tr>\n",
              "    <tr>\n",
              "      <th>4</th>\n",
              "      <td>5</td>\n",
              "      <td>Green Chile Anytime Sauce</td>\n",
              "      <td>5</td>\n",
              "      <td>13</td>\n",
              "    </tr>\n",
              "  </tbody>\n",
              "</table>\n",
              "</div>"
            ],
            "text/plain": [
              "   product_id                                       product_name  aisle_id  \\\n",
              "0           1                         Chocolate Sandwich Cookies        61   \n",
              "1           2                                   All-Seasons Salt       104   \n",
              "2           3               Robust Golden Unsweetened Oolong Tea        94   \n",
              "3           4  Smart Ones Classic Favorites Mini Rigatoni Wit...        38   \n",
              "4           5                          Green Chile Anytime Sauce         5   \n",
              "\n",
              "   department_id  \n",
              "0             19  \n",
              "1             13  \n",
              "2              7  \n",
              "3              1  \n",
              "4             13  "
            ]
          },
          "execution_count": 4,
          "metadata": {},
          "output_type": "execute_result"
        }
      ],
      "source": [
        "# mostrar información del DataFrame\n",
        "df_products.info()\n",
        "# mostrar primeras filas\n",
        "df_products.head()"
      ]
    },
    {
      "cell_type": "code",
      "execution_count": null,
      "id": "d8370c05",
      "metadata": {
        "id": "d8370c05",
        "outputId": "1141e7b5-e8d4-4f14-f568-83b1035372e9"
      },
      "outputs": [
        {
          "name": "stdout",
          "output_type": "stream",
          "text": [
            "<class 'pandas.core.frame.DataFrame'>\n",
            "RangeIndex: 4545007 entries, 0 to 4545006\n",
            "Data columns (total 4 columns):\n",
            " #   Column             Dtype  \n",
            "---  ------             -----  \n",
            " 0   order_id           int64  \n",
            " 1   product_id         int64  \n",
            " 2   add_to_cart_order  float64\n",
            " 3   reordered          int64  \n",
            "dtypes: float64(1), int64(3)\n",
            "memory usage: 138.7 MB\n"
          ]
        },
        {
          "data": {
            "text/html": [
              "<div>\n",
              "<style scoped>\n",
              "    .dataframe tbody tr th:only-of-type {\n",
              "        vertical-align: middle;\n",
              "    }\n",
              "\n",
              "    .dataframe tbody tr th {\n",
              "        vertical-align: top;\n",
              "    }\n",
              "\n",
              "    .dataframe thead th {\n",
              "        text-align: right;\n",
              "    }\n",
              "</style>\n",
              "<table border=\"1\" class=\"dataframe\">\n",
              "  <thead>\n",
              "    <tr style=\"text-align: right;\">\n",
              "      <th></th>\n",
              "      <th>order_id</th>\n",
              "      <th>product_id</th>\n",
              "      <th>add_to_cart_order</th>\n",
              "      <th>reordered</th>\n",
              "    </tr>\n",
              "  </thead>\n",
              "  <tbody>\n",
              "    <tr>\n",
              "      <th>0</th>\n",
              "      <td>2141543</td>\n",
              "      <td>11440</td>\n",
              "      <td>17.0</td>\n",
              "      <td>0</td>\n",
              "    </tr>\n",
              "    <tr>\n",
              "      <th>1</th>\n",
              "      <td>567889</td>\n",
              "      <td>1560</td>\n",
              "      <td>1.0</td>\n",
              "      <td>1</td>\n",
              "    </tr>\n",
              "    <tr>\n",
              "      <th>2</th>\n",
              "      <td>2261212</td>\n",
              "      <td>26683</td>\n",
              "      <td>1.0</td>\n",
              "      <td>1</td>\n",
              "    </tr>\n",
              "    <tr>\n",
              "      <th>3</th>\n",
              "      <td>491251</td>\n",
              "      <td>8670</td>\n",
              "      <td>35.0</td>\n",
              "      <td>1</td>\n",
              "    </tr>\n",
              "    <tr>\n",
              "      <th>4</th>\n",
              "      <td>2571142</td>\n",
              "      <td>1940</td>\n",
              "      <td>5.0</td>\n",
              "      <td>1</td>\n",
              "    </tr>\n",
              "  </tbody>\n",
              "</table>\n",
              "</div>"
            ],
            "text/plain": [
              "   order_id  product_id  add_to_cart_order  reordered\n",
              "0   2141543       11440               17.0          0\n",
              "1    567889        1560                1.0          1\n",
              "2   2261212       26683                1.0          1\n",
              "3    491251        8670               35.0          1\n",
              "4   2571142        1940                5.0          1"
            ]
          },
          "execution_count": 5,
          "metadata": {},
          "output_type": "execute_result"
        }
      ],
      "source": [
        "# mostrar información del DataFrame\n",
        "df_order_products.info()\n",
        "# mostrar primeras filas\n",
        "df_order_products.head()"
      ]
    },
    {
      "cell_type": "code",
      "execution_count": null,
      "id": "59e2090f",
      "metadata": {
        "id": "59e2090f",
        "outputId": "4b280348-b924-429a-bebf-4de26e97afab"
      },
      "outputs": [
        {
          "name": "stdout",
          "output_type": "stream",
          "text": [
            "<class 'pandas.core.frame.DataFrame'>\n",
            "RangeIndex: 134 entries, 0 to 133\n",
            "Data columns (total 2 columns):\n",
            " #   Column    Non-Null Count  Dtype \n",
            "---  ------    --------------  ----- \n",
            " 0   aisle_id  134 non-null    int64 \n",
            " 1   aisle     134 non-null    object\n",
            "dtypes: int64(1), object(1)\n",
            "memory usage: 2.2+ KB\n"
          ]
        },
        {
          "data": {
            "text/html": [
              "<div>\n",
              "<style scoped>\n",
              "    .dataframe tbody tr th:only-of-type {\n",
              "        vertical-align: middle;\n",
              "    }\n",
              "\n",
              "    .dataframe tbody tr th {\n",
              "        vertical-align: top;\n",
              "    }\n",
              "\n",
              "    .dataframe thead th {\n",
              "        text-align: right;\n",
              "    }\n",
              "</style>\n",
              "<table border=\"1\" class=\"dataframe\">\n",
              "  <thead>\n",
              "    <tr style=\"text-align: right;\">\n",
              "      <th></th>\n",
              "      <th>aisle_id</th>\n",
              "      <th>aisle</th>\n",
              "    </tr>\n",
              "  </thead>\n",
              "  <tbody>\n",
              "    <tr>\n",
              "      <th>0</th>\n",
              "      <td>1</td>\n",
              "      <td>prepared soups salads</td>\n",
              "    </tr>\n",
              "    <tr>\n",
              "      <th>1</th>\n",
              "      <td>2</td>\n",
              "      <td>specialty cheeses</td>\n",
              "    </tr>\n",
              "    <tr>\n",
              "      <th>2</th>\n",
              "      <td>3</td>\n",
              "      <td>energy granola bars</td>\n",
              "    </tr>\n",
              "    <tr>\n",
              "      <th>3</th>\n",
              "      <td>4</td>\n",
              "      <td>instant foods</td>\n",
              "    </tr>\n",
              "    <tr>\n",
              "      <th>4</th>\n",
              "      <td>5</td>\n",
              "      <td>marinades meat preparation</td>\n",
              "    </tr>\n",
              "  </tbody>\n",
              "</table>\n",
              "</div>"
            ],
            "text/plain": [
              "   aisle_id                       aisle\n",
              "0         1       prepared soups salads\n",
              "1         2           specialty cheeses\n",
              "2         3         energy granola bars\n",
              "3         4               instant foods\n",
              "4         5  marinades meat preparation"
            ]
          },
          "execution_count": 6,
          "metadata": {},
          "output_type": "execute_result"
        }
      ],
      "source": [
        "# mostrar información del DataFrame\n",
        "df_aisles.info()\n",
        "# mostrar primeras filas\n",
        "df_aisles.head()"
      ]
    },
    {
      "cell_type": "code",
      "execution_count": null,
      "id": "6fc81694",
      "metadata": {
        "id": "6fc81694",
        "outputId": "dcd048ac-2469-47ee-846d-3e5c702a2652"
      },
      "outputs": [
        {
          "name": "stdout",
          "output_type": "stream",
          "text": [
            "<class 'pandas.core.frame.DataFrame'>\n",
            "RangeIndex: 21 entries, 0 to 20\n",
            "Data columns (total 2 columns):\n",
            " #   Column         Non-Null Count  Dtype \n",
            "---  ------         --------------  ----- \n",
            " 0   department_id  21 non-null     int64 \n",
            " 1   department     21 non-null     object\n",
            "dtypes: int64(1), object(1)\n",
            "memory usage: 464.0+ bytes\n"
          ]
        },
        {
          "data": {
            "text/html": [
              "<div>\n",
              "<style scoped>\n",
              "    .dataframe tbody tr th:only-of-type {\n",
              "        vertical-align: middle;\n",
              "    }\n",
              "\n",
              "    .dataframe tbody tr th {\n",
              "        vertical-align: top;\n",
              "    }\n",
              "\n",
              "    .dataframe thead th {\n",
              "        text-align: right;\n",
              "    }\n",
              "</style>\n",
              "<table border=\"1\" class=\"dataframe\">\n",
              "  <thead>\n",
              "    <tr style=\"text-align: right;\">\n",
              "      <th></th>\n",
              "      <th>department_id</th>\n",
              "      <th>department</th>\n",
              "    </tr>\n",
              "  </thead>\n",
              "  <tbody>\n",
              "    <tr>\n",
              "      <th>0</th>\n",
              "      <td>1</td>\n",
              "      <td>frozen</td>\n",
              "    </tr>\n",
              "    <tr>\n",
              "      <th>1</th>\n",
              "      <td>2</td>\n",
              "      <td>other</td>\n",
              "    </tr>\n",
              "    <tr>\n",
              "      <th>2</th>\n",
              "      <td>3</td>\n",
              "      <td>bakery</td>\n",
              "    </tr>\n",
              "    <tr>\n",
              "      <th>3</th>\n",
              "      <td>4</td>\n",
              "      <td>produce</td>\n",
              "    </tr>\n",
              "    <tr>\n",
              "      <th>4</th>\n",
              "      <td>5</td>\n",
              "      <td>alcohol</td>\n",
              "    </tr>\n",
              "  </tbody>\n",
              "</table>\n",
              "</div>"
            ],
            "text/plain": [
              "   department_id department\n",
              "0              1     frozen\n",
              "1              2      other\n",
              "2              3     bakery\n",
              "3              4    produce\n",
              "4              5    alcohol"
            ]
          },
          "execution_count": 7,
          "metadata": {},
          "output_type": "execute_result"
        }
      ],
      "source": [
        "# mostrar información del DataFrame\n",
        "df_departments.info()\n",
        "# mostrar primeras filas\n",
        "df_departments.head()"
      ]
    },
    {
      "cell_type": "markdown",
      "id": "t75BD19oaR5f",
      "metadata": {
        "id": "t75BD19oaR5f"
      },
      "source": [
        "## Conclusiones\n",
        "\n",
        "* Carga y Formato de Archivos: Se confirmó que los archivos CSV utilizan un punto y coma (;). Esta situación fue corregida especificando el parámetro sep=';' para asegurar una lectura correcta de la información.\n",
        "\n",
        "* Integridad de los Datos: la mayoría de las columnas en todos los DataFrames se cargaron sin valores nulos. Sin embargo, se identificó un problema específico en la columna add_to_cart_order del DataFrame df_order_products, la cual presenta 836 valores ausentes (NaN).\n",
        "\n",
        "Impacto y Próximos Pasos: La presencia de estos valores ausentes, es un hallazgo crítico. Para análisis futuros, se requerirá una estrategia de manejo de estos NaN."
      ]
    },
    {
      "cell_type": "markdown",
      "id": "fd5edc53-06cd-4e65-b278-f5475c040180",
      "metadata": {
        "id": "fd5edc53-06cd-4e65-b278-f5475c040180"
      },
      "source": [
        "<div class=\"alert alert-block alert-success\">\n",
        "<b>Comentario del revisor (1ra Iteración)</b> <a class=“tocSkip”></a>\n",
        "\n",
        "Muy buen trabajo importando las librerías y los datos del proyecto. Adicionalmente usaste correctamente las funciones `info` y `head`, esto te permite hacer una primera revisión de los datos, su estructura y contenido. Con esta información, podemos establecer una hoja de ruta para ajustar, modificar y analizar los datos de una manera adecuada.\n",
        "\n",
        "</div>"
      ]
    },
    {
      "cell_type": "markdown",
      "id": "8RJHqxVmaVsF",
      "metadata": {
        "id": "8RJHqxVmaVsF"
      },
      "source": [
        "# Paso 2. Preprocesamiento de los datos\n",
        "\n",
        "Preprocesa los datos de la siguiente manera:\n",
        "\n",
        "- Verifica y corrige los tipos de datos (por ejemplo, asegúrate de que las columnas de ID sean números enteros).\n",
        "- Identifica y completa los valores ausentes.\n",
        "- Identifica y elimina los valores duplicados.\n",
        "\n",
        "Asegúrate de explicar qué tipos de valores ausentes y duplicados encontraste, cómo los completaste o eliminaste y por qué usaste esos métodos. ¿Por qué crees que estos valores ausentes y duplicados pueden haber estado presentes en el conjunto de datos?"
      ]
    },
    {
      "cell_type": "markdown",
      "id": "p6poABZQaZYb",
      "metadata": {
        "id": "p6poABZQaZYb"
      },
      "source": [
        "## Plan de solución\n",
        "1. Transformación de Tipo de Datos de order_id: Se convertirá el tipo de dato de la columna order_id en el DataFrame df_order_products de float64 a int64 mediante el método .astype(int).\n",
        "2. Manejo de Valores Ausentes en add_to_cart_order: Se imputarán los valores ausentes (NaN) en la columna add_to_cart_order del DataFrame df_order_products. Se utilizará el método .fillna() para reemplazar los NaN con un valor numérico específico. Posteriormente, se convertirá la columna add_to_cart_order a tipo int64 mediante .astype(int), dado que ahora todos sus valores son numéricos y enteros.\n",
        "3. Revisión de Datos duplicados (df_instacart_orders): Se revisarán los DataFrames en busca de filas duplicadas utilizando el método .duplicated().sum().\n",
        "Se examinarán las filas duplicadas (si existen) con df[df.duplicated(keep=False)] para entender su naturaleza y decidir la estrategia de manejo.\n",
        "4. Verificación Final de Tipos de Datos y Valores Ausentes: Se realizará una verificación final de los tipos de datos con .info() y la ausencia de nulos con .isnull().sum() para confirmar que las transformaciones se aplicaron correctamente y que los DataFrames están listos para el análisis."
      ]
    },
    {
      "cell_type": "markdown",
      "id": "07357848-dc64-4156-9cc3-01ff4365226d",
      "metadata": {
        "id": "07357848-dc64-4156-9cc3-01ff4365226d"
      },
      "source": [
        "## Encuentra y elimina los valores duplicados (y describe cómo tomaste tus decisiones)."
      ]
    },
    {
      "cell_type": "markdown",
      "id": "f179f0a9",
      "metadata": {
        "id": "f179f0a9"
      },
      "source": [
        "### `orders` data frame"
      ]
    },
    {
      "cell_type": "code",
      "execution_count": null,
      "id": "b99297a5-405a-463d-8535-9adc3da4ad74",
      "metadata": {
        "id": "b99297a5-405a-463d-8535-9adc3da4ad74",
        "outputId": "b1f3a920-b943-40d3-b9d5-83a92aeae91b"
      },
      "outputs": [
        {
          "name": "stdout",
          "output_type": "stream",
          "text": [
            "15\n"
          ]
        },
        {
          "data": {
            "text/html": [
              "<div>\n",
              "<style scoped>\n",
              "    .dataframe tbody tr th:only-of-type {\n",
              "        vertical-align: middle;\n",
              "    }\n",
              "\n",
              "    .dataframe tbody tr th {\n",
              "        vertical-align: top;\n",
              "    }\n",
              "\n",
              "    .dataframe thead th {\n",
              "        text-align: right;\n",
              "    }\n",
              "</style>\n",
              "<table border=\"1\" class=\"dataframe\">\n",
              "  <thead>\n",
              "    <tr style=\"text-align: right;\">\n",
              "      <th></th>\n",
              "      <th>order_id</th>\n",
              "      <th>user_id</th>\n",
              "      <th>order_number</th>\n",
              "      <th>order_dow</th>\n",
              "      <th>order_hour_of_day</th>\n",
              "      <th>days_since_prior_order</th>\n",
              "    </tr>\n",
              "  </thead>\n",
              "  <tbody>\n",
              "    <tr>\n",
              "      <th>30371</th>\n",
              "      <td>1918001</td>\n",
              "      <td>188546</td>\n",
              "      <td>14</td>\n",
              "      <td>3</td>\n",
              "      <td>2</td>\n",
              "      <td>16.0</td>\n",
              "    </tr>\n",
              "    <tr>\n",
              "      <th>99462</th>\n",
              "      <td>794638</td>\n",
              "      <td>50898</td>\n",
              "      <td>24</td>\n",
              "      <td>3</td>\n",
              "      <td>2</td>\n",
              "      <td>2.0</td>\n",
              "    </tr>\n",
              "    <tr>\n",
              "      <th>119251</th>\n",
              "      <td>408114</td>\n",
              "      <td>68324</td>\n",
              "      <td>4</td>\n",
              "      <td>3</td>\n",
              "      <td>2</td>\n",
              "      <td>18.0</td>\n",
              "    </tr>\n",
              "    <tr>\n",
              "      <th>142258</th>\n",
              "      <td>2845099</td>\n",
              "      <td>31189</td>\n",
              "      <td>11</td>\n",
              "      <td>3</td>\n",
              "      <td>2</td>\n",
              "      <td>7.0</td>\n",
              "    </tr>\n",
              "    <tr>\n",
              "      <th>145574</th>\n",
              "      <td>794638</td>\n",
              "      <td>50898</td>\n",
              "      <td>24</td>\n",
              "      <td>3</td>\n",
              "      <td>2</td>\n",
              "      <td>2.0</td>\n",
              "    </tr>\n",
              "    <tr>\n",
              "      <th>164581</th>\n",
              "      <td>1112182</td>\n",
              "      <td>202304</td>\n",
              "      <td>84</td>\n",
              "      <td>3</td>\n",
              "      <td>2</td>\n",
              "      <td>6.0</td>\n",
              "    </tr>\n",
              "    <tr>\n",
              "      <th>200059</th>\n",
              "      <td>1782114</td>\n",
              "      <td>106752</td>\n",
              "      <td>1</td>\n",
              "      <td>3</td>\n",
              "      <td>2</td>\n",
              "      <td>NaN</td>\n",
              "    </tr>\n",
              "    <tr>\n",
              "      <th>204042</th>\n",
              "      <td>2125197</td>\n",
              "      <td>14050</td>\n",
              "      <td>48</td>\n",
              "      <td>3</td>\n",
              "      <td>2</td>\n",
              "      <td>3.0</td>\n",
              "    </tr>\n",
              "    <tr>\n",
              "      <th>215294</th>\n",
              "      <td>2160484</td>\n",
              "      <td>107525</td>\n",
              "      <td>16</td>\n",
              "      <td>3</td>\n",
              "      <td>2</td>\n",
              "      <td>30.0</td>\n",
              "    </tr>\n",
              "    <tr>\n",
              "      <th>223105</th>\n",
              "      <td>2160484</td>\n",
              "      <td>107525</td>\n",
              "      <td>16</td>\n",
              "      <td>3</td>\n",
              "      <td>2</td>\n",
              "      <td>30.0</td>\n",
              "    </tr>\n",
              "    <tr>\n",
              "      <th>230807</th>\n",
              "      <td>1918001</td>\n",
              "      <td>188546</td>\n",
              "      <td>14</td>\n",
              "      <td>3</td>\n",
              "      <td>2</td>\n",
              "      <td>16.0</td>\n",
              "    </tr>\n",
              "    <tr>\n",
              "      <th>242618</th>\n",
              "      <td>1021560</td>\n",
              "      <td>53767</td>\n",
              "      <td>3</td>\n",
              "      <td>3</td>\n",
              "      <td>2</td>\n",
              "      <td>9.0</td>\n",
              "    </tr>\n",
              "    <tr>\n",
              "      <th>250626</th>\n",
              "      <td>467134</td>\n",
              "      <td>63189</td>\n",
              "      <td>21</td>\n",
              "      <td>3</td>\n",
              "      <td>2</td>\n",
              "      <td>2.0</td>\n",
              "    </tr>\n",
              "    <tr>\n",
              "      <th>257934</th>\n",
              "      <td>1919531</td>\n",
              "      <td>191501</td>\n",
              "      <td>32</td>\n",
              "      <td>3</td>\n",
              "      <td>2</td>\n",
              "      <td>7.0</td>\n",
              "    </tr>\n",
              "    <tr>\n",
              "      <th>259636</th>\n",
              "      <td>2282673</td>\n",
              "      <td>86751</td>\n",
              "      <td>49</td>\n",
              "      <td>3</td>\n",
              "      <td>2</td>\n",
              "      <td>2.0</td>\n",
              "    </tr>\n",
              "    <tr>\n",
              "      <th>266232</th>\n",
              "      <td>1782114</td>\n",
              "      <td>106752</td>\n",
              "      <td>1</td>\n",
              "      <td>3</td>\n",
              "      <td>2</td>\n",
              "      <td>NaN</td>\n",
              "    </tr>\n",
              "    <tr>\n",
              "      <th>273805</th>\n",
              "      <td>1112182</td>\n",
              "      <td>202304</td>\n",
              "      <td>84</td>\n",
              "      <td>3</td>\n",
              "      <td>2</td>\n",
              "      <td>6.0</td>\n",
              "    </tr>\n",
              "    <tr>\n",
              "      <th>284038</th>\n",
              "      <td>2845099</td>\n",
              "      <td>31189</td>\n",
              "      <td>11</td>\n",
              "      <td>3</td>\n",
              "      <td>2</td>\n",
              "      <td>7.0</td>\n",
              "    </tr>\n",
              "    <tr>\n",
              "      <th>311713</th>\n",
              "      <td>1021560</td>\n",
              "      <td>53767</td>\n",
              "      <td>3</td>\n",
              "      <td>3</td>\n",
              "      <td>2</td>\n",
              "      <td>9.0</td>\n",
              "    </tr>\n",
              "    <tr>\n",
              "      <th>314427</th>\n",
              "      <td>1286742</td>\n",
              "      <td>183220</td>\n",
              "      <td>48</td>\n",
              "      <td>3</td>\n",
              "      <td>2</td>\n",
              "      <td>4.0</td>\n",
              "    </tr>\n",
              "    <tr>\n",
              "      <th>321100</th>\n",
              "      <td>408114</td>\n",
              "      <td>68324</td>\n",
              "      <td>4</td>\n",
              "      <td>3</td>\n",
              "      <td>2</td>\n",
              "      <td>18.0</td>\n",
              "    </tr>\n",
              "    <tr>\n",
              "      <th>323900</th>\n",
              "      <td>1919531</td>\n",
              "      <td>191501</td>\n",
              "      <td>32</td>\n",
              "      <td>3</td>\n",
              "      <td>2</td>\n",
              "      <td>7.0</td>\n",
              "    </tr>\n",
              "    <tr>\n",
              "      <th>324868</th>\n",
              "      <td>2232988</td>\n",
              "      <td>82565</td>\n",
              "      <td>1</td>\n",
              "      <td>3</td>\n",
              "      <td>2</td>\n",
              "      <td>NaN</td>\n",
              "    </tr>\n",
              "    <tr>\n",
              "      <th>345917</th>\n",
              "      <td>2232988</td>\n",
              "      <td>82565</td>\n",
              "      <td>1</td>\n",
              "      <td>3</td>\n",
              "      <td>2</td>\n",
              "      <td>NaN</td>\n",
              "    </tr>\n",
              "    <tr>\n",
              "      <th>354993</th>\n",
              "      <td>391768</td>\n",
              "      <td>57671</td>\n",
              "      <td>19</td>\n",
              "      <td>3</td>\n",
              "      <td>2</td>\n",
              "      <td>10.0</td>\n",
              "    </tr>\n",
              "    <tr>\n",
              "      <th>371905</th>\n",
              "      <td>391768</td>\n",
              "      <td>57671</td>\n",
              "      <td>19</td>\n",
              "      <td>3</td>\n",
              "      <td>2</td>\n",
              "      <td>10.0</td>\n",
              "    </tr>\n",
              "    <tr>\n",
              "      <th>394347</th>\n",
              "      <td>467134</td>\n",
              "      <td>63189</td>\n",
              "      <td>21</td>\n",
              "      <td>3</td>\n",
              "      <td>2</td>\n",
              "      <td>2.0</td>\n",
              "    </tr>\n",
              "    <tr>\n",
              "      <th>411408</th>\n",
              "      <td>1286742</td>\n",
              "      <td>183220</td>\n",
              "      <td>48</td>\n",
              "      <td>3</td>\n",
              "      <td>2</td>\n",
              "      <td>4.0</td>\n",
              "    </tr>\n",
              "    <tr>\n",
              "      <th>415163</th>\n",
              "      <td>2282673</td>\n",
              "      <td>86751</td>\n",
              "      <td>49</td>\n",
              "      <td>3</td>\n",
              "      <td>2</td>\n",
              "      <td>2.0</td>\n",
              "    </tr>\n",
              "    <tr>\n",
              "      <th>441599</th>\n",
              "      <td>2125197</td>\n",
              "      <td>14050</td>\n",
              "      <td>48</td>\n",
              "      <td>3</td>\n",
              "      <td>2</td>\n",
              "      <td>3.0</td>\n",
              "    </tr>\n",
              "  </tbody>\n",
              "</table>\n",
              "</div>"
            ],
            "text/plain": [
              "        order_id  user_id  order_number  order_dow  order_hour_of_day  \\\n",
              "30371    1918001   188546            14          3                  2   \n",
              "99462     794638    50898            24          3                  2   \n",
              "119251    408114    68324             4          3                  2   \n",
              "142258   2845099    31189            11          3                  2   \n",
              "145574    794638    50898            24          3                  2   \n",
              "164581   1112182   202304            84          3                  2   \n",
              "200059   1782114   106752             1          3                  2   \n",
              "204042   2125197    14050            48          3                  2   \n",
              "215294   2160484   107525            16          3                  2   \n",
              "223105   2160484   107525            16          3                  2   \n",
              "230807   1918001   188546            14          3                  2   \n",
              "242618   1021560    53767             3          3                  2   \n",
              "250626    467134    63189            21          3                  2   \n",
              "257934   1919531   191501            32          3                  2   \n",
              "259636   2282673    86751            49          3                  2   \n",
              "266232   1782114   106752             1          3                  2   \n",
              "273805   1112182   202304            84          3                  2   \n",
              "284038   2845099    31189            11          3                  2   \n",
              "311713   1021560    53767             3          3                  2   \n",
              "314427   1286742   183220            48          3                  2   \n",
              "321100    408114    68324             4          3                  2   \n",
              "323900   1919531   191501            32          3                  2   \n",
              "324868   2232988    82565             1          3                  2   \n",
              "345917   2232988    82565             1          3                  2   \n",
              "354993    391768    57671            19          3                  2   \n",
              "371905    391768    57671            19          3                  2   \n",
              "394347    467134    63189            21          3                  2   \n",
              "411408   1286742   183220            48          3                  2   \n",
              "415163   2282673    86751            49          3                  2   \n",
              "441599   2125197    14050            48          3                  2   \n",
              "\n",
              "        days_since_prior_order  \n",
              "30371                     16.0  \n",
              "99462                      2.0  \n",
              "119251                    18.0  \n",
              "142258                     7.0  \n",
              "145574                     2.0  \n",
              "164581                     6.0  \n",
              "200059                     NaN  \n",
              "204042                     3.0  \n",
              "215294                    30.0  \n",
              "223105                    30.0  \n",
              "230807                    16.0  \n",
              "242618                     9.0  \n",
              "250626                     2.0  \n",
              "257934                     7.0  \n",
              "259636                     2.0  \n",
              "266232                     NaN  \n",
              "273805                     6.0  \n",
              "284038                     7.0  \n",
              "311713                     9.0  \n",
              "314427                     4.0  \n",
              "321100                    18.0  \n",
              "323900                     7.0  \n",
              "324868                     NaN  \n",
              "345917                     NaN  \n",
              "354993                    10.0  \n",
              "371905                    10.0  \n",
              "394347                     2.0  \n",
              "411408                     4.0  \n",
              "415163                     2.0  \n",
              "441599                     3.0  "
            ]
          },
          "execution_count": 8,
          "metadata": {},
          "output_type": "execute_result"
        }
      ],
      "source": [
        "# Revisa si hay pedidos duplicados\n",
        "print (df_instacart_orders.duplicated().sum())\n",
        "\n",
        "df_instacart_orders[df_instacart_orders.duplicated(keep= False)]"
      ]
    },
    {
      "cell_type": "markdown",
      "id": "PEkwUX_gvt5A",
      "metadata": {
        "id": "PEkwUX_gvt5A"
      },
      "source": [
        "Las filas duplicadas son del dia miercoles a las 2"
      ]
    },
    {
      "cell_type": "code",
      "execution_count": null,
      "id": "0d44de5d",
      "metadata": {
        "id": "0d44de5d",
        "outputId": "b7c21189-cea4-4a7b-9f09-6e90b97963a3"
      },
      "outputs": [
        {
          "data": {
            "text/html": [
              "<div>\n",
              "<style scoped>\n",
              "    .dataframe tbody tr th:only-of-type {\n",
              "        vertical-align: middle;\n",
              "    }\n",
              "\n",
              "    .dataframe tbody tr th {\n",
              "        vertical-align: top;\n",
              "    }\n",
              "\n",
              "    .dataframe thead th {\n",
              "        text-align: right;\n",
              "    }\n",
              "</style>\n",
              "<table border=\"1\" class=\"dataframe\">\n",
              "  <thead>\n",
              "    <tr style=\"text-align: right;\">\n",
              "      <th></th>\n",
              "      <th>order_id</th>\n",
              "      <th>user_id</th>\n",
              "      <th>order_number</th>\n",
              "      <th>order_dow</th>\n",
              "      <th>order_hour_of_day</th>\n",
              "      <th>days_since_prior_order</th>\n",
              "    </tr>\n",
              "  </thead>\n",
              "  <tbody>\n",
              "    <tr>\n",
              "      <th>4838</th>\n",
              "      <td>2766110</td>\n",
              "      <td>162084</td>\n",
              "      <td>41</td>\n",
              "      <td>3</td>\n",
              "      <td>2</td>\n",
              "      <td>16.0</td>\n",
              "    </tr>\n",
              "    <tr>\n",
              "      <th>5156</th>\n",
              "      <td>2190225</td>\n",
              "      <td>138285</td>\n",
              "      <td>18</td>\n",
              "      <td>3</td>\n",
              "      <td>2</td>\n",
              "      <td>11.0</td>\n",
              "    </tr>\n",
              "    <tr>\n",
              "      <th>15506</th>\n",
              "      <td>553049</td>\n",
              "      <td>58599</td>\n",
              "      <td>13</td>\n",
              "      <td>3</td>\n",
              "      <td>2</td>\n",
              "      <td>7.0</td>\n",
              "    </tr>\n",
              "    <tr>\n",
              "      <th>18420</th>\n",
              "      <td>382357</td>\n",
              "      <td>120200</td>\n",
              "      <td>19</td>\n",
              "      <td>3</td>\n",
              "      <td>2</td>\n",
              "      <td>11.0</td>\n",
              "    </tr>\n",
              "    <tr>\n",
              "      <th>24691</th>\n",
              "      <td>690242</td>\n",
              "      <td>77357</td>\n",
              "      <td>2</td>\n",
              "      <td>3</td>\n",
              "      <td>2</td>\n",
              "      <td>9.0</td>\n",
              "    </tr>\n",
              "    <tr>\n",
              "      <th>...</th>\n",
              "      <td>...</td>\n",
              "      <td>...</td>\n",
              "      <td>...</td>\n",
              "      <td>...</td>\n",
              "      <td>...</td>\n",
              "      <td>...</td>\n",
              "    </tr>\n",
              "    <tr>\n",
              "      <th>457013</th>\n",
              "      <td>3384021</td>\n",
              "      <td>14881</td>\n",
              "      <td>6</td>\n",
              "      <td>3</td>\n",
              "      <td>2</td>\n",
              "      <td>30.0</td>\n",
              "    </tr>\n",
              "    <tr>\n",
              "      <th>458816</th>\n",
              "      <td>910166</td>\n",
              "      <td>164782</td>\n",
              "      <td>18</td>\n",
              "      <td>3</td>\n",
              "      <td>2</td>\n",
              "      <td>4.0</td>\n",
              "    </tr>\n",
              "    <tr>\n",
              "      <th>459635</th>\n",
              "      <td>1680532</td>\n",
              "      <td>106435</td>\n",
              "      <td>6</td>\n",
              "      <td>3</td>\n",
              "      <td>2</td>\n",
              "      <td>21.0</td>\n",
              "    </tr>\n",
              "    <tr>\n",
              "      <th>468324</th>\n",
              "      <td>222962</td>\n",
              "      <td>54979</td>\n",
              "      <td>59</td>\n",
              "      <td>3</td>\n",
              "      <td>2</td>\n",
              "      <td>3.0</td>\n",
              "    </tr>\n",
              "    <tr>\n",
              "      <th>477526</th>\n",
              "      <td>2592344</td>\n",
              "      <td>46860</td>\n",
              "      <td>38</td>\n",
              "      <td>3</td>\n",
              "      <td>2</td>\n",
              "      <td>3.0</td>\n",
              "    </tr>\n",
              "  </tbody>\n",
              "</table>\n",
              "<p>121 rows × 6 columns</p>\n",
              "</div>"
            ],
            "text/plain": [
              "        order_id  user_id  order_number  order_dow  order_hour_of_day  \\\n",
              "4838     2766110   162084            41          3                  2   \n",
              "5156     2190225   138285            18          3                  2   \n",
              "15506     553049    58599            13          3                  2   \n",
              "18420     382357   120200            19          3                  2   \n",
              "24691     690242    77357             2          3                  2   \n",
              "...          ...      ...           ...        ...                ...   \n",
              "457013   3384021    14881             6          3                  2   \n",
              "458816    910166   164782            18          3                  2   \n",
              "459635   1680532   106435             6          3                  2   \n",
              "468324    222962    54979            59          3                  2   \n",
              "477526   2592344    46860            38          3                  2   \n",
              "\n",
              "        days_since_prior_order  \n",
              "4838                      16.0  \n",
              "5156                      11.0  \n",
              "15506                      7.0  \n",
              "18420                     11.0  \n",
              "24691                      9.0  \n",
              "...                        ...  \n",
              "457013                    30.0  \n",
              "458816                     4.0  \n",
              "459635                    21.0  \n",
              "468324                     3.0  \n",
              "477526                     3.0  \n",
              "\n",
              "[121 rows x 6 columns]"
            ]
          },
          "execution_count": 9,
          "metadata": {},
          "output_type": "execute_result"
        }
      ],
      "source": [
        "# Basándote en tus hallazgos,\n",
        "# Verifica todos los pedidos que se hicieron el miércoles a las 2:00 a.m.\n",
        "pedidos_miercoles_2am = df_instacart_orders[(df_instacart_orders['order_dow'] == 3) & (df_instacart_orders['order_hour_of_day'] == 2)]\n",
        "pedidos_miercoles_2am"
      ]
    },
    {
      "cell_type": "markdown",
      "id": "vu2OWyoqwOx5",
      "metadata": {
        "id": "vu2OWyoqwOx5"
      },
      "source": [
        "Es altamente probable que sea el resultado de un fallo sistémico o un error en la recopilación de datos en un momento particular. Por lo tanto, el resultado sugiere fuertemente que estas filas duplicadas deben ser eliminadas del DataFrame df_instacart_orders antes de continuar con cualquier análisis."
      ]
    },
    {
      "cell_type": "code",
      "execution_count": null,
      "id": "480563c7",
      "metadata": {
        "id": "480563c7"
      },
      "outputs": [],
      "source": [
        "# Elimina los pedidos duplicados\n",
        "df_instacart_orders = df_instacart_orders.drop_duplicates()\n"
      ]
    },
    {
      "cell_type": "code",
      "execution_count": null,
      "id": "0b2396a2",
      "metadata": {
        "id": "0b2396a2",
        "outputId": "901a0162-e935-4970-cbc4-a5601592fe65"
      },
      "outputs": [
        {
          "data": {
            "text/plain": [
              "0"
            ]
          },
          "execution_count": 11,
          "metadata": {},
          "output_type": "execute_result"
        }
      ],
      "source": [
        "# Vuelve a verificar si hay filas duplicadas\n",
        "df_instacart_orders.duplicated().sum()"
      ]
    },
    {
      "cell_type": "code",
      "execution_count": null,
      "id": "f6113ef1",
      "metadata": {
        "id": "f6113ef1",
        "outputId": "256e696d-2826-4af2-e76f-db891720d732"
      },
      "outputs": [
        {
          "data": {
            "text/plain": [
              "0"
            ]
          },
          "execution_count": 12,
          "metadata": {},
          "output_type": "execute_result"
        }
      ],
      "source": [
        "# Vuelve a verificar únicamente si hay IDs duplicados de pedidos\n",
        "df_instacart_orders['order_id'].duplicated().sum()"
      ]
    },
    {
      "cell_type": "markdown",
      "id": "5e8905ae",
      "metadata": {
        "id": "5e8905ae"
      },
      "source": [
        "Para asegurar la integridad y fiabilidad de los análisis subsiguientes, las filas duplicadas fueron eliminadas del DataFrame df_instacart_orders. Conservar estos registros redundantes habría distorsionado métricas clave como el conteo total de órdenes, la frecuencia de pedidos y otros patrones de comportamiento del cliente, comprometiendo la validez de los resultados."
      ]
    },
    {
      "cell_type": "markdown",
      "id": "45e6bc46",
      "metadata": {
        "id": "45e6bc46"
      },
      "source": [
        "### `products` data frame"
      ]
    },
    {
      "cell_type": "code",
      "execution_count": null,
      "id": "5f526b5b-8175-46fa-a0fd-441767d50e64",
      "metadata": {
        "id": "5f526b5b-8175-46fa-a0fd-441767d50e64",
        "outputId": "e99253ac-a0be-448e-bacc-afbac2517d80"
      },
      "outputs": [
        {
          "data": {
            "text/plain": [
              "0"
            ]
          },
          "execution_count": 13,
          "metadata": {},
          "output_type": "execute_result"
        }
      ],
      "source": [
        "# Verifica si hay filas totalmente duplicadas\n",
        "df_products.duplicated().sum()"
      ]
    },
    {
      "cell_type": "code",
      "execution_count": null,
      "id": "88daa4f4",
      "metadata": {
        "id": "88daa4f4",
        "outputId": "bbeb9fe6-cad2-4766-c03b-53d02c6e772a"
      },
      "outputs": [
        {
          "data": {
            "text/plain": [
              "0"
            ]
          },
          "execution_count": 14,
          "metadata": {},
          "output_type": "execute_result"
        }
      ],
      "source": [
        "# Revisa únicamente si hay ID de productos duplicados\n",
        "df_products['product_id'].duplicated().sum()"
      ]
    },
    {
      "cell_type": "code",
      "execution_count": null,
      "id": "c773f0bf",
      "metadata": {
        "id": "c773f0bf",
        "outputId": "54066e7d-ccf7-4c60-a2f2-5c40011b02fa"
      },
      "outputs": [
        {
          "name": "stdout",
          "output_type": "stream",
          "text": [
            "1361\n"
          ]
        },
        {
          "data": {
            "text/html": [
              "<div>\n",
              "<style scoped>\n",
              "    .dataframe tbody tr th:only-of-type {\n",
              "        vertical-align: middle;\n",
              "    }\n",
              "\n",
              "    .dataframe tbody tr th {\n",
              "        vertical-align: top;\n",
              "    }\n",
              "\n",
              "    .dataframe thead th {\n",
              "        text-align: right;\n",
              "    }\n",
              "</style>\n",
              "<table border=\"1\" class=\"dataframe\">\n",
              "  <thead>\n",
              "    <tr style=\"text-align: right;\">\n",
              "      <th></th>\n",
              "      <th>product_id</th>\n",
              "      <th>product_name</th>\n",
              "      <th>aisle_id</th>\n",
              "      <th>department_id</th>\n",
              "    </tr>\n",
              "  </thead>\n",
              "  <tbody>\n",
              "    <tr>\n",
              "      <th>37</th>\n",
              "      <td>38</td>\n",
              "      <td>NaN</td>\n",
              "      <td>100</td>\n",
              "      <td>21</td>\n",
              "    </tr>\n",
              "    <tr>\n",
              "      <th>41</th>\n",
              "      <td>42</td>\n",
              "      <td>BIOTIN 1000 MCG</td>\n",
              "      <td>47</td>\n",
              "      <td>11</td>\n",
              "    </tr>\n",
              "    <tr>\n",
              "      <th>71</th>\n",
              "      <td>72</td>\n",
              "      <td>NaN</td>\n",
              "      <td>100</td>\n",
              "      <td>21</td>\n",
              "    </tr>\n",
              "    <tr>\n",
              "      <th>109</th>\n",
              "      <td>110</td>\n",
              "      <td>NaN</td>\n",
              "      <td>100</td>\n",
              "      <td>21</td>\n",
              "    </tr>\n",
              "    <tr>\n",
              "      <th>185</th>\n",
              "      <td>186</td>\n",
              "      <td>FRESH SCENT DISHWASHER DETERGENT WITH DAWN</td>\n",
              "      <td>74</td>\n",
              "      <td>17</td>\n",
              "    </tr>\n",
              "    <tr>\n",
              "      <th>...</th>\n",
              "      <td>...</td>\n",
              "      <td>...</td>\n",
              "      <td>...</td>\n",
              "      <td>...</td>\n",
              "    </tr>\n",
              "    <tr>\n",
              "      <th>49689</th>\n",
              "      <td>49690</td>\n",
              "      <td>HIGH PERFORMANCE ENERGY DRINK</td>\n",
              "      <td>64</td>\n",
              "      <td>7</td>\n",
              "    </tr>\n",
              "    <tr>\n",
              "      <th>49690</th>\n",
              "      <td>49691</td>\n",
              "      <td>ORIGINAL PANCAKE &amp; WAFFLE MIX</td>\n",
              "      <td>130</td>\n",
              "      <td>14</td>\n",
              "    </tr>\n",
              "    <tr>\n",
              "      <th>49691</th>\n",
              "      <td>49692</td>\n",
              "      <td>ORGANIC INSTANT OATMEAL LIGHT MAPLE BROWN SUGAR</td>\n",
              "      <td>130</td>\n",
              "      <td>14</td>\n",
              "    </tr>\n",
              "    <tr>\n",
              "      <th>49692</th>\n",
              "      <td>49693</td>\n",
              "      <td>SPRING WATER BODY WASH</td>\n",
              "      <td>127</td>\n",
              "      <td>11</td>\n",
              "    </tr>\n",
              "    <tr>\n",
              "      <th>49693</th>\n",
              "      <td>49694</td>\n",
              "      <td>BURRITO- STEAK &amp; CHEESE</td>\n",
              "      <td>38</td>\n",
              "      <td>1</td>\n",
              "    </tr>\n",
              "  </tbody>\n",
              "</table>\n",
              "<p>1465 rows × 4 columns</p>\n",
              "</div>"
            ],
            "text/plain": [
              "       product_id                                     product_name  aisle_id  \\\n",
              "37             38                                              NaN       100   \n",
              "41             42                                  BIOTIN 1000 MCG        47   \n",
              "71             72                                              NaN       100   \n",
              "109           110                                              NaN       100   \n",
              "185           186       FRESH SCENT DISHWASHER DETERGENT WITH DAWN        74   \n",
              "...           ...                                              ...       ...   \n",
              "49689       49690                    HIGH PERFORMANCE ENERGY DRINK        64   \n",
              "49690       49691                    ORIGINAL PANCAKE & WAFFLE MIX       130   \n",
              "49691       49692  ORGANIC INSTANT OATMEAL LIGHT MAPLE BROWN SUGAR       130   \n",
              "49692       49693                           SPRING WATER BODY WASH       127   \n",
              "49693       49694                          BURRITO- STEAK & CHEESE        38   \n",
              "\n",
              "       department_id  \n",
              "37                21  \n",
              "41                11  \n",
              "71                21  \n",
              "109               21  \n",
              "185               17  \n",
              "...              ...  \n",
              "49689              7  \n",
              "49690             14  \n",
              "49691             14  \n",
              "49692             11  \n",
              "49693              1  \n",
              "\n",
              "[1465 rows x 4 columns]"
            ]
          },
          "execution_count": 15,
          "metadata": {},
          "output_type": "execute_result"
        }
      ],
      "source": [
        "# Revisa únicamente si hay nombres duplicados de productos (convierte los nombres a letras mayúsculas para compararlos mejor)\n",
        "df_products['product_name'] = df_products['product_name'].str.upper()\n",
        "print(df_products['product_name'].duplicated().sum())\n",
        "df_products[df_products['product_name'].duplicated(keep= False)]"
      ]
    },
    {
      "cell_type": "code",
      "execution_count": null,
      "id": "01efd02e",
      "metadata": {
        "id": "01efd02e",
        "outputId": "6e121a55-b33c-4740-b10e-35ab357a5f64"
      },
      "outputs": [
        {
          "data": {
            "text/plain": [
              "0"
            ]
          },
          "execution_count": 16,
          "metadata": {},
          "output_type": "execute_result"
        }
      ],
      "source": [
        "# Revisa si hay nombres duplicados de productos no faltantes\n",
        "df_products['product_id'].duplicated().sum()"
      ]
    },
    {
      "cell_type": "markdown",
      "id": "9da8d293",
      "metadata": {
        "id": "9da8d293"
      },
      "source": [
        "Aunque no hay duplicados de IDs de producto ni filas completamente duplicadas, existe un número considerable de product_name duplicados, muchos de los cuales son NaN y están agrupados en un pasillo y departamento específico. Los duplicados restantes de product_name pueden ser variaciones del mismo producto o productos distintos con nombres coincidentes."
      ]
    },
    {
      "cell_type": "markdown",
      "id": "60f30db1",
      "metadata": {
        "id": "60f30db1"
      },
      "source": [
        "### `departments` data frame"
      ]
    },
    {
      "cell_type": "code",
      "execution_count": null,
      "id": "fb410ad4-0fbf-4b80-bb09-23fdea79afe3",
      "metadata": {
        "id": "fb410ad4-0fbf-4b80-bb09-23fdea79afe3",
        "outputId": "f8919d27-edaf-4668-e244-fe0a78bdcb15"
      },
      "outputs": [
        {
          "data": {
            "text/plain": [
              "0"
            ]
          },
          "execution_count": 17,
          "metadata": {},
          "output_type": "execute_result"
        }
      ],
      "source": [
        "# Revisa si hay filas totalmente duplicadas\n",
        "df_departments.duplicated().sum()"
      ]
    },
    {
      "cell_type": "code",
      "execution_count": null,
      "id": "332b12bb",
      "metadata": {
        "id": "332b12bb",
        "outputId": "48a06500-a1e4-4646-b759-a41ca3f0021b"
      },
      "outputs": [
        {
          "data": {
            "text/plain": [
              "0"
            ]
          },
          "execution_count": 18,
          "metadata": {},
          "output_type": "execute_result"
        }
      ],
      "source": [
        "# Revisa únicamente si hay IDs duplicadas de departamentos\n",
        "df_departments['department_id'].duplicated().sum()"
      ]
    },
    {
      "cell_type": "markdown",
      "id": "bd30d78e",
      "metadata": {
        "id": "bd30d78e"
      },
      "source": [
        "No hay departamentos duplicados."
      ]
    },
    {
      "cell_type": "markdown",
      "id": "889349c1",
      "metadata": {
        "id": "889349c1"
      },
      "source": [
        "### `aisles` data frame"
      ]
    },
    {
      "cell_type": "code",
      "execution_count": null,
      "id": "9da89fb9-4679-40f5-ad0d-c34df753a3f8",
      "metadata": {
        "id": "9da89fb9-4679-40f5-ad0d-c34df753a3f8",
        "outputId": "290f0901-e85d-4f6b-db75-458f4adbd52e"
      },
      "outputs": [
        {
          "data": {
            "text/plain": [
              "0"
            ]
          },
          "execution_count": 19,
          "metadata": {},
          "output_type": "execute_result"
        }
      ],
      "source": [
        "# Revisa si hay filas totalmente duplicadas\n",
        "df_aisles.duplicated().sum()"
      ]
    },
    {
      "cell_type": "code",
      "execution_count": null,
      "id": "da7c2822",
      "metadata": {
        "id": "da7c2822",
        "outputId": "deff5541-dc48-49c4-f4ff-da783401aa70"
      },
      "outputs": [
        {
          "data": {
            "text/plain": [
              "0"
            ]
          },
          "execution_count": 20,
          "metadata": {},
          "output_type": "execute_result"
        }
      ],
      "source": [
        "# Revisa únicamente si hay IDs duplicadas de pasillos\n",
        "df_aisles['aisle_id'].duplicated().sum()"
      ]
    },
    {
      "cell_type": "markdown",
      "id": "ac63826f",
      "metadata": {
        "id": "ac63826f"
      },
      "source": [
        "No hay pasillos duplicados."
      ]
    },
    {
      "cell_type": "markdown",
      "id": "274cd06a",
      "metadata": {
        "id": "274cd06a"
      },
      "source": [
        "### `order_products` data frame"
      ]
    },
    {
      "cell_type": "code",
      "execution_count": null,
      "id": "52326689-84a8-4b8f-a881-7c68780f62c9",
      "metadata": {
        "id": "52326689-84a8-4b8f-a881-7c68780f62c9",
        "outputId": "a7c698fb-ed23-4022-fdd5-fc8d17a3295c"
      },
      "outputs": [
        {
          "data": {
            "text/plain": [
              "0"
            ]
          },
          "execution_count": 21,
          "metadata": {},
          "output_type": "execute_result"
        }
      ],
      "source": [
        "# Revisa si hay filas totalmente duplicadas\n",
        "df_order_products.duplicated().sum()"
      ]
    },
    {
      "cell_type": "code",
      "execution_count": null,
      "id": "7b861391",
      "metadata": {
        "id": "7b861391",
        "outputId": "dbc4d594-015b-494b-f6c7-6855e0a5b069"
      },
      "outputs": [
        {
          "name": "stdout",
          "output_type": "stream",
          "text": [
            "Empty DataFrame\n",
            "Columns: [order_id, product_id, add_to_cart_order, reordered]\n",
            "Index: []\n"
          ]
        }
      ],
      "source": [
        "# Vuelve a verificar si hay cualquier otro duplicado engañoso\n",
        "# Duplicados exactos en todas las columnas (que no deberían existir si cada fila es un artículo único)\n",
        "exact_duplicates = df_order_products[df_order_products.duplicated(keep=False)]\n",
        "print(exact_duplicates)"
      ]
    },
    {
      "cell_type": "markdown",
      "id": "0b890492",
      "metadata": {
        "id": "0b890492"
      },
      "source": [
        "No hay duplicados exactos en las filas del dataframe"
      ]
    },
    {
      "cell_type": "markdown",
      "id": "afa59dff-e932-4b02-9141-85c8ec00f46f",
      "metadata": {
        "id": "afa59dff-e932-4b02-9141-85c8ec00f46f"
      },
      "source": [
        "<div class=\"alert alert-block alert-success\">\n",
        "<b>Comentario del revisor (1ra Iteración)</b> <a class=“tocSkip”></a>\n",
        "\n",
        "Muy buen trabajo al identificar y eliminar los datos duplicados. Esto ayuda a evitar sesgos, mejora la calidad del análisis y hace que los modelos sean más precisos. Además, trabajar con datos limpios facilita la interpretación y el uso eficiente de los recursos.\n",
        "\n",
        "</div>"
      ]
    },
    {
      "cell_type": "markdown",
      "id": "1e46de76",
      "metadata": {
        "id": "1e46de76"
      },
      "source": [
        "## Encuentra y elimina los valores ausentes\n",
        "\n",
        "Al trabajar con valores duplicados, pudimos observar que también nos falta investigar valores ausentes:\n",
        "\n",
        "* La columna `'product_name'` de la tabla products.\n",
        "* La columna `'days_since_prior_order'` de la tabla orders.\n",
        "* La columna `'add_to_cart_order'` de la tabla order_productos."
      ]
    },
    {
      "cell_type": "markdown",
      "id": "c0aebd78",
      "metadata": {
        "id": "c0aebd78"
      },
      "source": [
        "### `products` data frame"
      ]
    },
    {
      "cell_type": "code",
      "execution_count": null,
      "id": "fe4a8b0f",
      "metadata": {
        "id": "fe4a8b0f",
        "outputId": "714a4b49-e627-4416-83b8-7d89c8384cb8"
      },
      "outputs": [
        {
          "data": {
            "text/html": [
              "<div>\n",
              "<style scoped>\n",
              "    .dataframe tbody tr th:only-of-type {\n",
              "        vertical-align: middle;\n",
              "    }\n",
              "\n",
              "    .dataframe tbody tr th {\n",
              "        vertical-align: top;\n",
              "    }\n",
              "\n",
              "    .dataframe thead th {\n",
              "        text-align: right;\n",
              "    }\n",
              "</style>\n",
              "<table border=\"1\" class=\"dataframe\">\n",
              "  <thead>\n",
              "    <tr style=\"text-align: right;\">\n",
              "      <th></th>\n",
              "      <th>product_id</th>\n",
              "      <th>product_name</th>\n",
              "      <th>aisle_id</th>\n",
              "      <th>department_id</th>\n",
              "    </tr>\n",
              "  </thead>\n",
              "  <tbody>\n",
              "    <tr>\n",
              "      <th>37</th>\n",
              "      <td>38</td>\n",
              "      <td>NaN</td>\n",
              "      <td>100</td>\n",
              "      <td>21</td>\n",
              "    </tr>\n",
              "    <tr>\n",
              "      <th>71</th>\n",
              "      <td>72</td>\n",
              "      <td>NaN</td>\n",
              "      <td>100</td>\n",
              "      <td>21</td>\n",
              "    </tr>\n",
              "    <tr>\n",
              "      <th>109</th>\n",
              "      <td>110</td>\n",
              "      <td>NaN</td>\n",
              "      <td>100</td>\n",
              "      <td>21</td>\n",
              "    </tr>\n",
              "    <tr>\n",
              "      <th>296</th>\n",
              "      <td>297</td>\n",
              "      <td>NaN</td>\n",
              "      <td>100</td>\n",
              "      <td>21</td>\n",
              "    </tr>\n",
              "    <tr>\n",
              "      <th>416</th>\n",
              "      <td>417</td>\n",
              "      <td>NaN</td>\n",
              "      <td>100</td>\n",
              "      <td>21</td>\n",
              "    </tr>\n",
              "    <tr>\n",
              "      <th>...</th>\n",
              "      <td>...</td>\n",
              "      <td>...</td>\n",
              "      <td>...</td>\n",
              "      <td>...</td>\n",
              "    </tr>\n",
              "    <tr>\n",
              "      <th>49552</th>\n",
              "      <td>49553</td>\n",
              "      <td>NaN</td>\n",
              "      <td>100</td>\n",
              "      <td>21</td>\n",
              "    </tr>\n",
              "    <tr>\n",
              "      <th>49574</th>\n",
              "      <td>49575</td>\n",
              "      <td>NaN</td>\n",
              "      <td>100</td>\n",
              "      <td>21</td>\n",
              "    </tr>\n",
              "    <tr>\n",
              "      <th>49640</th>\n",
              "      <td>49641</td>\n",
              "      <td>NaN</td>\n",
              "      <td>100</td>\n",
              "      <td>21</td>\n",
              "    </tr>\n",
              "    <tr>\n",
              "      <th>49663</th>\n",
              "      <td>49664</td>\n",
              "      <td>NaN</td>\n",
              "      <td>100</td>\n",
              "      <td>21</td>\n",
              "    </tr>\n",
              "    <tr>\n",
              "      <th>49668</th>\n",
              "      <td>49669</td>\n",
              "      <td>NaN</td>\n",
              "      <td>100</td>\n",
              "      <td>21</td>\n",
              "    </tr>\n",
              "  </tbody>\n",
              "</table>\n",
              "<p>1258 rows × 4 columns</p>\n",
              "</div>"
            ],
            "text/plain": [
              "       product_id product_name  aisle_id  department_id\n",
              "37             38          NaN       100             21\n",
              "71             72          NaN       100             21\n",
              "109           110          NaN       100             21\n",
              "296           297          NaN       100             21\n",
              "416           417          NaN       100             21\n",
              "...           ...          ...       ...            ...\n",
              "49552       49553          NaN       100             21\n",
              "49574       49575          NaN       100             21\n",
              "49640       49641          NaN       100             21\n",
              "49663       49664          NaN       100             21\n",
              "49668       49669          NaN       100             21\n",
              "\n",
              "[1258 rows x 4 columns]"
            ]
          },
          "execution_count": 23,
          "metadata": {},
          "output_type": "execute_result"
        }
      ],
      "source": [
        "# Encuentra los valores ausentes en la columna 'product_name'\n",
        "df_products[df_products['product_name'].isnull()]"
      ]
    },
    {
      "cell_type": "markdown",
      "id": "-A6x1AbJhjkp",
      "metadata": {
        "id": "-A6x1AbJhjkp"
      },
      "source": [
        "La razón más probable para estos datos ausentes puede ser una combinación de errores en la recopilación o entrada de datos o que son productos que existieron pero que por alguna razón ya no tienen un nombre asociado en el registro actual.\n",
        "\n",
        "Es importante abordar estos valores ausentes, ya sea eliminando las filas, imputando los valores."
      ]
    },
    {
      "cell_type": "code",
      "execution_count": null,
      "id": "e96167bc",
      "metadata": {
        "id": "e96167bc",
        "outputId": "b5d9d8c5-cb85-4c7f-d33e-ba09d6e4c930"
      },
      "outputs": [
        {
          "data": {
            "text/html": [
              "<div>\n",
              "<style scoped>\n",
              "    .dataframe tbody tr th:only-of-type {\n",
              "        vertical-align: middle;\n",
              "    }\n",
              "\n",
              "    .dataframe tbody tr th {\n",
              "        vertical-align: top;\n",
              "    }\n",
              "\n",
              "    .dataframe thead th {\n",
              "        text-align: right;\n",
              "    }\n",
              "</style>\n",
              "<table border=\"1\" class=\"dataframe\">\n",
              "  <thead>\n",
              "    <tr style=\"text-align: right;\">\n",
              "      <th></th>\n",
              "      <th>product_id</th>\n",
              "      <th>product_name</th>\n",
              "      <th>aisle_id</th>\n",
              "      <th>department_id</th>\n",
              "    </tr>\n",
              "  </thead>\n",
              "  <tbody>\n",
              "    <tr>\n",
              "      <th>37</th>\n",
              "      <td>38</td>\n",
              "      <td>NaN</td>\n",
              "      <td>100</td>\n",
              "      <td>21</td>\n",
              "    </tr>\n",
              "    <tr>\n",
              "      <th>71</th>\n",
              "      <td>72</td>\n",
              "      <td>NaN</td>\n",
              "      <td>100</td>\n",
              "      <td>21</td>\n",
              "    </tr>\n",
              "    <tr>\n",
              "      <th>109</th>\n",
              "      <td>110</td>\n",
              "      <td>NaN</td>\n",
              "      <td>100</td>\n",
              "      <td>21</td>\n",
              "    </tr>\n",
              "    <tr>\n",
              "      <th>296</th>\n",
              "      <td>297</td>\n",
              "      <td>NaN</td>\n",
              "      <td>100</td>\n",
              "      <td>21</td>\n",
              "    </tr>\n",
              "    <tr>\n",
              "      <th>416</th>\n",
              "      <td>417</td>\n",
              "      <td>NaN</td>\n",
              "      <td>100</td>\n",
              "      <td>21</td>\n",
              "    </tr>\n",
              "    <tr>\n",
              "      <th>...</th>\n",
              "      <td>...</td>\n",
              "      <td>...</td>\n",
              "      <td>...</td>\n",
              "      <td>...</td>\n",
              "    </tr>\n",
              "    <tr>\n",
              "      <th>49552</th>\n",
              "      <td>49553</td>\n",
              "      <td>NaN</td>\n",
              "      <td>100</td>\n",
              "      <td>21</td>\n",
              "    </tr>\n",
              "    <tr>\n",
              "      <th>49574</th>\n",
              "      <td>49575</td>\n",
              "      <td>NaN</td>\n",
              "      <td>100</td>\n",
              "      <td>21</td>\n",
              "    </tr>\n",
              "    <tr>\n",
              "      <th>49640</th>\n",
              "      <td>49641</td>\n",
              "      <td>NaN</td>\n",
              "      <td>100</td>\n",
              "      <td>21</td>\n",
              "    </tr>\n",
              "    <tr>\n",
              "      <th>49663</th>\n",
              "      <td>49664</td>\n",
              "      <td>NaN</td>\n",
              "      <td>100</td>\n",
              "      <td>21</td>\n",
              "    </tr>\n",
              "    <tr>\n",
              "      <th>49668</th>\n",
              "      <td>49669</td>\n",
              "      <td>NaN</td>\n",
              "      <td>100</td>\n",
              "      <td>21</td>\n",
              "    </tr>\n",
              "  </tbody>\n",
              "</table>\n",
              "<p>1258 rows × 4 columns</p>\n",
              "</div>"
            ],
            "text/plain": [
              "       product_id product_name  aisle_id  department_id\n",
              "37             38          NaN       100             21\n",
              "71             72          NaN       100             21\n",
              "109           110          NaN       100             21\n",
              "296           297          NaN       100             21\n",
              "416           417          NaN       100             21\n",
              "...           ...          ...       ...            ...\n",
              "49552       49553          NaN       100             21\n",
              "49574       49575          NaN       100             21\n",
              "49640       49641          NaN       100             21\n",
              "49663       49664          NaN       100             21\n",
              "49668       49669          NaN       100             21\n",
              "\n",
              "[1258 rows x 4 columns]"
            ]
          },
          "execution_count": 24,
          "metadata": {},
          "output_type": "execute_result"
        }
      ],
      "source": [
        "#  ¿Todos los nombres de productos ausentes están relacionados con el pasillo con ID 100?\n",
        "df_products[df_products['aisle_id'] == 100]\n"
      ]
    },
    {
      "cell_type": "markdown",
      "id": "WRpIfXRphpSL",
      "metadata": {
        "id": "WRpIfXRphpSL"
      },
      "source": [
        "Todos los 1258 valores ausentes estan relacionados con el pasillo 100"
      ]
    },
    {
      "cell_type": "code",
      "execution_count": null,
      "id": "8fd0a541",
      "metadata": {
        "id": "8fd0a541",
        "outputId": "b96b4b60-f34d-4396-c917-af85b0f236d3"
      },
      "outputs": [
        {
          "data": {
            "text/html": [
              "<div>\n",
              "<style scoped>\n",
              "    .dataframe tbody tr th:only-of-type {\n",
              "        vertical-align: middle;\n",
              "    }\n",
              "\n",
              "    .dataframe tbody tr th {\n",
              "        vertical-align: top;\n",
              "    }\n",
              "\n",
              "    .dataframe thead th {\n",
              "        text-align: right;\n",
              "    }\n",
              "</style>\n",
              "<table border=\"1\" class=\"dataframe\">\n",
              "  <thead>\n",
              "    <tr style=\"text-align: right;\">\n",
              "      <th></th>\n",
              "      <th>product_id</th>\n",
              "      <th>product_name</th>\n",
              "      <th>aisle_id</th>\n",
              "      <th>department_id</th>\n",
              "    </tr>\n",
              "  </thead>\n",
              "  <tbody>\n",
              "    <tr>\n",
              "      <th>37</th>\n",
              "      <td>38</td>\n",
              "      <td>NaN</td>\n",
              "      <td>100</td>\n",
              "      <td>21</td>\n",
              "    </tr>\n",
              "    <tr>\n",
              "      <th>71</th>\n",
              "      <td>72</td>\n",
              "      <td>NaN</td>\n",
              "      <td>100</td>\n",
              "      <td>21</td>\n",
              "    </tr>\n",
              "    <tr>\n",
              "      <th>109</th>\n",
              "      <td>110</td>\n",
              "      <td>NaN</td>\n",
              "      <td>100</td>\n",
              "      <td>21</td>\n",
              "    </tr>\n",
              "    <tr>\n",
              "      <th>296</th>\n",
              "      <td>297</td>\n",
              "      <td>NaN</td>\n",
              "      <td>100</td>\n",
              "      <td>21</td>\n",
              "    </tr>\n",
              "    <tr>\n",
              "      <th>416</th>\n",
              "      <td>417</td>\n",
              "      <td>NaN</td>\n",
              "      <td>100</td>\n",
              "      <td>21</td>\n",
              "    </tr>\n",
              "    <tr>\n",
              "      <th>...</th>\n",
              "      <td>...</td>\n",
              "      <td>...</td>\n",
              "      <td>...</td>\n",
              "      <td>...</td>\n",
              "    </tr>\n",
              "    <tr>\n",
              "      <th>49552</th>\n",
              "      <td>49553</td>\n",
              "      <td>NaN</td>\n",
              "      <td>100</td>\n",
              "      <td>21</td>\n",
              "    </tr>\n",
              "    <tr>\n",
              "      <th>49574</th>\n",
              "      <td>49575</td>\n",
              "      <td>NaN</td>\n",
              "      <td>100</td>\n",
              "      <td>21</td>\n",
              "    </tr>\n",
              "    <tr>\n",
              "      <th>49640</th>\n",
              "      <td>49641</td>\n",
              "      <td>NaN</td>\n",
              "      <td>100</td>\n",
              "      <td>21</td>\n",
              "    </tr>\n",
              "    <tr>\n",
              "      <th>49663</th>\n",
              "      <td>49664</td>\n",
              "      <td>NaN</td>\n",
              "      <td>100</td>\n",
              "      <td>21</td>\n",
              "    </tr>\n",
              "    <tr>\n",
              "      <th>49668</th>\n",
              "      <td>49669</td>\n",
              "      <td>NaN</td>\n",
              "      <td>100</td>\n",
              "      <td>21</td>\n",
              "    </tr>\n",
              "  </tbody>\n",
              "</table>\n",
              "<p>1258 rows × 4 columns</p>\n",
              "</div>"
            ],
            "text/plain": [
              "       product_id product_name  aisle_id  department_id\n",
              "37             38          NaN       100             21\n",
              "71             72          NaN       100             21\n",
              "109           110          NaN       100             21\n",
              "296           297          NaN       100             21\n",
              "416           417          NaN       100             21\n",
              "...           ...          ...       ...            ...\n",
              "49552       49553          NaN       100             21\n",
              "49574       49575          NaN       100             21\n",
              "49640       49641          NaN       100             21\n",
              "49663       49664          NaN       100             21\n",
              "49668       49669          NaN       100             21\n",
              "\n",
              "[1258 rows x 4 columns]"
            ]
          },
          "execution_count": 25,
          "metadata": {},
          "output_type": "execute_result"
        }
      ],
      "source": [
        "# ¿Todos los nombres de productos ausentes están relacionados con el departamento con ID 21?\n",
        "df_products[df_products['department_id'] == 21]"
      ]
    },
    {
      "cell_type": "markdown",
      "id": "qDpdYn1Fht_I",
      "metadata": {
        "id": "qDpdYn1Fht_I"
      },
      "source": [
        "Todos los 1258 valores ausentes estan relacionados con el departamento 21"
      ]
    },
    {
      "cell_type": "code",
      "execution_count": null,
      "id": "325c3464",
      "metadata": {
        "id": "325c3464",
        "outputId": "c36c37cb-ad10-4bf0-8d78-cd9e59873e6b"
      },
      "outputs": [
        {
          "name": "stdout",
          "output_type": "stream",
          "text": [
            "    department_id department\n",
            "20             21    missing\n",
            "    aisle_id    aisle\n",
            "99       100  missing\n"
          ]
        }
      ],
      "source": [
        "# Usa las tablas department y aisle para revisar los datos del pasillo con ID 100 y el departamento con ID 21.\n",
        "print(df_departments[df_departments['department_id'] == 21])\n",
        "print(df_aisles[df_aisles['aisle_id'] == 100])\n"
      ]
    },
    {
      "cell_type": "markdown",
      "id": "nqhSTUPhhvEJ",
      "metadata": {
        "id": "nqhSTUPhhvEJ"
      },
      "source": [
        "Los 1258 productos sin nombre no son un error de recopilacion. Este hallazgo sugiere que estan clasificados a propósito con el \"departamento 21\" y el \"pasillo 100\", que en las tablas de referencia aparecen como \"missing\". Es una forma de organizarlos."
      ]
    },
    {
      "cell_type": "code",
      "execution_count": null,
      "id": "6b295120",
      "metadata": {
        "id": "6b295120",
        "outputId": "97031266-8b61-48bd-9ebd-5f5aef9048c3"
      },
      "outputs": [
        {
          "name": "stdout",
          "output_type": "stream",
          "text": [
            "product_id       0\n",
            "product_name     0\n",
            "aisle_id         0\n",
            "department_id    0\n",
            "dtype: int64\n"
          ]
        }
      ],
      "source": [
        "# Completa los nombres de productos ausentes con 'Unknown'\n",
        "df_products['product_name'].fillna('Unknown', inplace=True)\n",
        "print(df_products.isnull().sum())"
      ]
    },
    {
      "cell_type": "markdown",
      "id": "fc70e5ad",
      "metadata": {
        "id": "fc70e5ad"
      },
      "source": [
        "Se cambia el nombre a \"unknown\" ya que es importante mantener los productos a pesar de no tener su nombre."
      ]
    },
    {
      "cell_type": "markdown",
      "id": "7eb45c86",
      "metadata": {
        "id": "7eb45c86"
      },
      "source": [
        "### `orders` data frame"
      ]
    },
    {
      "cell_type": "code",
      "execution_count": null,
      "id": "93e41d96",
      "metadata": {
        "id": "93e41d96",
        "outputId": "86242ddc-8248-4a0b-f2bc-fc309e76ae2d"
      },
      "outputs": [
        {
          "data": {
            "text/plain": [
              "order_id                      0\n",
              "user_id                       0\n",
              "order_number                  0\n",
              "order_dow                     0\n",
              "order_hour_of_day             0\n",
              "days_since_prior_order    28817\n",
              "dtype: int64"
            ]
          },
          "execution_count": 28,
          "metadata": {},
          "output_type": "execute_result"
        }
      ],
      "source": [
        "# Encuentra los valores ausentes\n",
        "df_instacart_orders.isnull().sum()"
      ]
    },
    {
      "cell_type": "code",
      "execution_count": null,
      "id": "166e5a86",
      "metadata": {
        "id": "166e5a86",
        "outputId": "02386e04-27ec-4cf9-e88d-0966285b9f6d"
      },
      "outputs": [
        {
          "data": {
            "text/html": [
              "<div>\n",
              "<style scoped>\n",
              "    .dataframe tbody tr th:only-of-type {\n",
              "        vertical-align: middle;\n",
              "    }\n",
              "\n",
              "    .dataframe tbody tr th {\n",
              "        vertical-align: top;\n",
              "    }\n",
              "\n",
              "    .dataframe thead th {\n",
              "        text-align: right;\n",
              "    }\n",
              "</style>\n",
              "<table border=\"1\" class=\"dataframe\">\n",
              "  <thead>\n",
              "    <tr style=\"text-align: right;\">\n",
              "      <th></th>\n",
              "      <th>order_id</th>\n",
              "      <th>user_id</th>\n",
              "      <th>order_number</th>\n",
              "      <th>order_dow</th>\n",
              "      <th>order_hour_of_day</th>\n",
              "      <th>days_since_prior_order</th>\n",
              "    </tr>\n",
              "  </thead>\n",
              "  <tbody>\n",
              "  </tbody>\n",
              "</table>\n",
              "</div>"
            ],
            "text/plain": [
              "Empty DataFrame\n",
              "Columns: [order_id, user_id, order_number, order_dow, order_hour_of_day, days_since_prior_order]\n",
              "Index: []"
            ]
          },
          "execution_count": 29,
          "metadata": {},
          "output_type": "execute_result"
        }
      ],
      "source": [
        "# ¿Hay algún valor ausente que no sea el primer pedido del cliente?\n",
        "df_instacart_orders.loc[\n",
        "    df_instacart_orders['days_since_prior_order'].isnull() &\n",
        "    (df_instacart_orders['order_number'] != 1)]\n"
      ]
    },
    {
      "cell_type": "markdown",
      "id": "4e23d089",
      "metadata": {
        "id": "4e23d089"
      },
      "source": [
        "No hay valores ausentes que no sean el primer pedido del cliente"
      ]
    },
    {
      "cell_type": "markdown",
      "id": "69dc9ca4",
      "metadata": {
        "id": "69dc9ca4"
      },
      "source": [
        "### `order_products` data frame"
      ]
    },
    {
      "cell_type": "code",
      "execution_count": null,
      "id": "b8240253",
      "metadata": {
        "id": "b8240253",
        "outputId": "2ac0331c-bf8e-4ae6-865e-c37bb3026d98"
      },
      "outputs": [
        {
          "data": {
            "text/plain": [
              "order_id               0\n",
              "product_id             0\n",
              "add_to_cart_order    836\n",
              "reordered              0\n",
              "dtype: int64"
            ]
          },
          "execution_count": 30,
          "metadata": {},
          "output_type": "execute_result"
        }
      ],
      "source": [
        "# Encuentra los valores ausentes\n",
        "df_order_products.isnull().sum()"
      ]
    },
    {
      "cell_type": "code",
      "execution_count": null,
      "id": "9a78e5ee",
      "metadata": {
        "id": "9a78e5ee",
        "outputId": "6079b118-e84e-404b-9d18-a398df7fd96f"
      },
      "outputs": [
        {
          "name": "stdout",
          "output_type": "stream",
          "text": [
            "El valor mínimo en 'add_to_cart_order' es: 1.0\n",
            "El valor máximo en 'add_to_cart_order' es: 64.0\n"
          ]
        }
      ],
      "source": [
        "# ¿Cuáles son los valores mínimos y máximos en esta columna?\n",
        "min_add_to_cart = df_order_products['add_to_cart_order'].min()\n",
        "max_add_to_cart = df_order_products['add_to_cart_order'].max()\n",
        "\n",
        "print(f\"El valor mínimo en 'add_to_cart_order' es: {min_add_to_cart}\")\n",
        "print(f\"El valor máximo en 'add_to_cart_order' es: {max_add_to_cart}\")"
      ]
    },
    {
      "cell_type": "markdown",
      "id": "-Z2Ja215jW78",
      "metadata": {
        "id": "-Z2Ja215jW78"
      },
      "source": [
        "Por pedido minimamente se agrega 1 producto, y maximo 64."
      ]
    },
    {
      "cell_type": "code",
      "execution_count": null,
      "id": "ab9d0c2b",
      "metadata": {
        "id": "ab9d0c2b",
        "outputId": "fc60f087-c769-4fa0-9c68-b9e869e4b931"
      },
      "outputs": [
        {
          "data": {
            "text/plain": [
              "737        2449164\n",
              "9926       1968313\n",
              "14394      2926893\n",
              "16418      1717990\n",
              "30114      1959075\n",
              "            ...   \n",
              "4505662    1800005\n",
              "4511400    1633337\n",
              "4517562     404157\n",
              "4534112    1673227\n",
              "4535739    1832957\n",
              "Name: order_id, Length: 836, dtype: int64"
            ]
          },
          "execution_count": 32,
          "metadata": {},
          "output_type": "execute_result"
        }
      ],
      "source": [
        "# Guarda todas las IDs de pedidos que tengan un valor ausente en 'add_to_cart_order'\n",
        "pedidos_ausentes = df_order_products[df_order_products['add_to_cart_order'].isnull()]['order_id']\n",
        "pedidos_ausentes"
      ]
    },
    {
      "cell_type": "code",
      "execution_count": null,
      "id": "54c31695",
      "metadata": {
        "id": "54c31695",
        "outputId": "e64e124c-cbab-47f1-a9c1-a20f205b8ab8"
      },
      "outputs": [
        {
          "name": "stdout",
          "output_type": "stream",
          "text": [
            "64.0\n",
            "order_id\n",
            "9310        65\n",
            "61355      127\n",
            "102236      95\n",
            "129627      69\n",
            "165801      70\n",
            "          ... \n",
            "2999801     70\n",
            "3125735     86\n",
            "3308010    115\n",
            "3347453     71\n",
            "3383594     69\n",
            "Length: 70, dtype: int64\n"
          ]
        },
        {
          "data": {
            "text/plain": [
              "65"
            ]
          },
          "execution_count": 33,
          "metadata": {},
          "output_type": "execute_result"
        }
      ],
      "source": [
        "# ¿Todos los pedidos con valores ausentes tienen más de 64 productos?\n",
        "df_order_products[df_order_products['order_id'].isin(pedidos_ausentes)]\n",
        "print(df_order_products[df_order_products['order_id'].isin(pedidos_ausentes)]['add_to_cart_order'].max())\n",
        "# Agrupa todos los pedidos con datos ausentes por su ID de pedido.\n",
        "df_order_products[df_order_products['order_id'].isin(pedidos_ausentes)].groupby('order_id').size()\n",
        "print(df_order_products[df_order_products['order_id'].isin(pedidos_ausentes)].groupby('order_id').size())\n",
        "# Cuenta el número de 'product_id' en cada pedido y revisa el valor mínimo del conteo.\n",
        "df_order_products[df_order_products['order_id'].isin(pedidos_ausentes)].groupby('order_id').size().min()"
      ]
    },
    {
      "cell_type": "markdown",
      "id": "p9V6pddtjglj",
      "metadata": {
        "id": "p9V6pddtjglj"
      },
      "source": [
        "Todos los pedidos con valores ausentes tienen mas de 64 productos. Podría haber una limitación en el campo add_to_cart_order que no permite valores superiores a 64. Si el máximo add_to_cart_order es 64, cualquier producto que sea el 65º o posterior en ser añadido al carrito podría tener un valor ausente porque excede el rango permitido para esa columna."
      ]
    },
    {
      "cell_type": "code",
      "execution_count": null,
      "id": "7a987d08",
      "metadata": {
        "id": "7a987d08",
        "outputId": "feae5c37-1ed2-4267-fdd9-a8acf7fbebfd"
      },
      "outputs": [
        {
          "name": "stdout",
          "output_type": "stream",
          "text": [
            "order_id             0\n",
            "product_id           0\n",
            "add_to_cart_order    0\n",
            "reordered            0\n",
            "dtype: int64\n"
          ]
        }
      ],
      "source": [
        "# Remplaza los valores ausentes en la columna 'add_to_cart? con 999 y convierte la columna al tipo entero.\n",
        "df_order_products['add_to_cart_order'].fillna(999, inplace=True)\n",
        "df_order_products['add_to_cart_order'] = df_order_products['add_to_cart_order'].astype(int)\n",
        "print(df_order_products.isnull().sum())"
      ]
    },
    {
      "cell_type": "markdown",
      "id": "fea4bcc7",
      "metadata": {
        "id": "fea4bcc7"
      },
      "source": [
        "Esta podría ser una solución práctica a corto plazo para manejar los datos ausentes, pero no es una solución óptima y no aborda la causa raíz del problema."
      ]
    },
    {
      "cell_type": "markdown",
      "id": "RnplPFY1gSrb",
      "metadata": {
        "id": "RnplPFY1gSrb"
      },
      "source": [
        "## Conclusiones\n",
        "\n",
        "Preprocesamiento de los datos.\n",
        "\n",
        "Las acciones de preprocesamiento aplicadas han resuelto consistentemente los problemas de calidad de datos identificados. Los DataFrames ahora están limpios, con tipos de datos correctos y sin duplicados o valores ausentes problemáticos, lo que permite la realización de análisis exploratorios y la extracción de conocimientos de forma fiable y precisa."
      ]
    },
    {
      "cell_type": "markdown",
      "id": "UjrOIwTcz3ri",
      "metadata": {
        "id": "UjrOIwTcz3ri"
      },
      "source": [
        "# Paso 3. Análisis de los datos\n",
        "\n",
        "Una vez los datos estén procesados y listos, haz el siguiente análisis:"
      ]
    },
    {
      "cell_type": "markdown",
      "id": "turkish-kidney",
      "metadata": {
        "id": "turkish-kidney"
      },
      "source": [
        "# [A] Fácil (deben completarse todos para aprobar)\n",
        "\n",
        "1. Verifica que los valores en las columnas `'order_hour_of_day'` y `'order_dow'` en la tabla orders sean razonables (es decir, `'order_hour_of_day'` oscile entre 0 y 23 y `'order_dow'` oscile entre 0 y 6).\n",
        "2. Crea un gráfico que muestre el número de personas que hacen pedidos dependiendo de la hora del día.\n",
        "3. Crea un gráfico que muestre qué día de la semana la gente hace sus compras.\n",
        "4. Crea un gráfico que muestre el tiempo que la gente espera hasta hacer su siguiente pedido, y comenta sobre los valores mínimos y máximos."
      ]
    },
    {
      "cell_type": "markdown",
      "id": "short-capability",
      "metadata": {
        "id": "short-capability"
      },
      "source": [
        "### [A1] Verifica que los valores sean sensibles"
      ]
    },
    {
      "cell_type": "code",
      "execution_count": null,
      "id": "growing-fruit",
      "metadata": {
        "id": "growing-fruit",
        "outputId": "a92341b9-b222-4233-8ae8-613b6e38b0f1"
      },
      "outputs": [
        {
          "name": "stdout",
          "output_type": "stream",
          "text": [
            "0\n",
            "23\n"
          ]
        }
      ],
      "source": [
        "#Verifica que los valores en la columna 'order_hour_of_day' oscile entre 0 y 23\n",
        "print(df_instacart_orders['order_hour_of_day'].min())\n",
        "print(df_instacart_orders['order_hour_of_day'].max())\n"
      ]
    },
    {
      "cell_type": "code",
      "execution_count": null,
      "id": "accessory-malaysia",
      "metadata": {
        "id": "accessory-malaysia",
        "outputId": "cfec8a5a-4d79-4cb8-de42-aae00472385e"
      },
      "outputs": [
        {
          "name": "stdout",
          "output_type": "stream",
          "text": [
            "0\n",
            "6\n"
          ]
        }
      ],
      "source": [
        "#Verifica que los valores en la columna 'order_dow' oscile entre 0 y 6\n",
        "print(df_instacart_orders['order_dow'].min())\n",
        "print(df_instacart_orders['order_dow'].max())"
      ]
    },
    {
      "cell_type": "markdown",
      "id": "hmR2GNQ6lCsX",
      "metadata": {
        "id": "hmR2GNQ6lCsX"
      },
      "source": [
        "Verificamos que las columnas de hora y dia son razonables y que oscilan entre 0-23 horas y de domingo-sabado."
      ]
    },
    {
      "cell_type": "markdown",
      "id": "a6743a70",
      "metadata": {
        "id": "a6743a70"
      },
      "source": [
        "### [A2] Para cada hora del día, ¿cuántas personas hacen órdenes?"
      ]
    },
    {
      "cell_type": "code",
      "execution_count": null,
      "id": "a36cca27",
      "metadata": {
        "id": "a36cca27",
        "outputId": "12965a93-0e18-48b8-ace6-97b8cd9f31ac"
      },
      "outputs": [
        {
          "data": {
            "text/plain": [
              "<AxesSubplot:>"
            ]
          },
          "execution_count": 37,
          "metadata": {},
          "output_type": "execute_result"
        },
        {
          "data": {
            "image/png": "[encoded data removed]",
            "text/plain": [
              "<Figure size 640x480 with 1 Axes>"
            ]
          },
          "metadata": {},
          "output_type": "display_data"
        }
      ],
      "source": [
        "#Crea un gráfico que muestre el número de personas que hacen pedidos dependiendo de la hora del día.\n",
        "df_instacart_orders['order_hour_of_day'].value_counts().sort_index().plot(kind='bar')\n"
      ]
    },
    {
      "cell_type": "markdown",
      "id": "11270eed",
      "metadata": {
        "id": "11270eed"
      },
      "source": [
        "Las personas hacen más pedidos marcadamente durante el dia, disminuye considerabemente durante la noche. Siendo las 9:00 am la hora en que mas se realizaron pedidos."
      ]
    },
    {
      "cell_type": "markdown",
      "id": "documented-command",
      "metadata": {
        "id": "documented-command"
      },
      "source": [
        "### [A3] ¿Qué día de la semana compran víveres las personas?"
      ]
    },
    {
      "cell_type": "code",
      "execution_count": null,
      "id": "chief-digit",
      "metadata": {
        "id": "chief-digit",
        "outputId": "9c1ed7d2-ec4d-400f-b5fe-97a711dc4fcb"
      },
      "outputs": [
        {
          "data": {
            "text/plain": [
              "<AxesSubplot:>"
            ]
          },
          "execution_count": 38,
          "metadata": {},
          "output_type": "execute_result"
        },
        {
          "data": {
            "image/png": "[encoded data removed]",
            "text/plain": [
              "<Figure size 640x480 with 1 Axes>"
            ]
          },
          "metadata": {},
          "output_type": "display_data"
        }
      ],
      "source": [
        "#Crea un gráfico que muestre qué día de la semana la gente hace sus compras\n",
        "df_instacart_orders['order_dow'].value_counts().sort_index().plot(kind='bar')"
      ]
    },
    {
      "cell_type": "markdown",
      "id": "dominant-lightning",
      "metadata": {
        "id": "dominant-lightning"
      },
      "source": [
        "El dia domingo es cuando se hacen mayor numero de compras, superando al dia sabado por muy poco."
      ]
    },
    {
      "cell_type": "markdown",
      "id": "cutting-concert",
      "metadata": {
        "id": "cutting-concert"
      },
      "source": [
        "### [A4] ¿Cuánto tiempo esperan las personas hasta hacer otro pedido? Comenta sobre los valores mínimos y máximos."
      ]
    },
    {
      "cell_type": "code",
      "execution_count": null,
      "id": "c231f523",
      "metadata": {
        "id": "c231f523",
        "outputId": "09a00470-8040-4643-e570-e06b10aa95fb"
      },
      "outputs": [
        {
          "data": {
            "text/plain": [
              "<AxesSubplot:>"
            ]
          },
          "execution_count": 39,
          "metadata": {},
          "output_type": "execute_result"
        },
        {
          "data": {
            "image/png": "[encoded data removed]",
            "text/plain": [
              "<Figure size 640x480 with 1 Axes>"
            ]
          },
          "metadata": {},
          "output_type": "display_data"
        }
      ],
      "source": [
        "#Crea un gráfico que muestre el tiempo que la gente espera hasta hacer su siguiente pedido, y comenta sobre los valores mínimos y máximos.\n",
        "df_instacart_orders['days_since_prior_order'].value_counts().sort_index().plot(kind='bar')"
      ]
    },
    {
      "cell_type": "markdown",
      "id": "discrete-vertex",
      "metadata": {
        "id": "discrete-vertex"
      },
      "source": [
        "La mayoria de las personas vuelve a hacer su compra al mes (cada 30 dias) o semanalmente (cada 7 dias)."
      ]
    },
    {
      "cell_type": "markdown",
      "id": "tight-staff",
      "metadata": {
        "id": "tight-staff"
      },
      "source": [
        "# [B] Intermedio (deben completarse todos para aprobar)\n",
        "\n",
        "1. ¿Existe alguna diferencia entre las distribuciones `'order_hour_of_day'` de los miércoles y los sábados? Traza gráficos de barra de `'order_hour_of_day'` para ambos días en la misma figura y describe las diferencias que observes.\n",
        "2. Grafica la distribución para el número de órdenes que hacen los clientes (es decir, cuántos clientes hicieron solo 1 pedido, cuántos hicieron 2, cuántos 3, y así sucesivamente...).\n",
        "3. ¿Cuáles son los 20 principales productos que se piden con más frecuencia (muestra su identificación y nombre)?"
      ]
    },
    {
      "cell_type": "markdown",
      "id": "packed-classic",
      "metadata": {
        "id": "packed-classic"
      },
      "source": [
        "### [B1] Diferencia entre miércoles y sábados para  `'order_hour_of_day'`. Traza gráficos de barra para los dos días y describe las diferencias que veas."
      ]
    },
    {
      "cell_type": "code",
      "execution_count": null,
      "id": "d89b8403",
      "metadata": {
        "id": "d89b8403"
      },
      "outputs": [],
      "source": [
        "#Distribucion de 'order_hour_of_day' de los miércoles\n",
        "distribucion_miercoles = df_instacart_orders[df_instacart_orders['order_dow'] == 3]['order_hour_of_day'].value_counts().sort_index()\n"
      ]
    },
    {
      "cell_type": "code",
      "execution_count": null,
      "id": "94e54e8a",
      "metadata": {
        "id": "94e54e8a"
      },
      "outputs": [],
      "source": [
        "#Distribucion de 'order_hour_of_day' de los sábados\n",
        "distribucion_sabado = df_instacart_orders[df_instacart_orders['order_dow'] == 6]['order_hour_of_day'].value_counts().sort_index()\n"
      ]
    },
    {
      "cell_type": "code",
      "execution_count": null,
      "id": "797c90a8",
      "metadata": {
        "id": "797c90a8",
        "outputId": "89290774-d0df-42e6-fa43-c73a38465743"
      },
      "outputs": [
        {
          "name": "stdout",
          "output_type": "stream",
          "text": [
            "Comparación de la distribución de pedidos por hora:\n",
            "    Miércoles  Sábado\n",
            "0         373     464\n",
            "1         215     254\n",
            "2         106     177\n",
            "3         101     125\n",
            "4         108     118\n",
            "5         170     161\n",
            "6         643     451\n",
            "7        1732    1619\n",
            "8        3125    3246\n",
            "9        4490    4311\n",
            "10       5026    4919\n",
            "11       5004    5116\n",
            "12       4688    5132\n",
            "13       4674    5323\n",
            "14       4774    5375\n",
            "15       5163    5188\n",
            "16       4976    5029\n",
            "17       4175    4295\n",
            "18       3463    3338\n",
            "19       2652    2610\n",
            "20       1917    1847\n",
            "21       1450    1473\n",
            "22       1154    1185\n",
            "23        718     893\n"
          ]
        }
      ],
      "source": [
        "# Crear un DataFrame combinando ambas Series\n",
        "df_plot = pd.DataFrame({\n",
        "    'Miércoles': distribucion_miercoles,\n",
        "    'Sábado': distribucion_sabado\n",
        "})\n",
        "print(\"Comparación de la distribución de pedidos por hora:\")\n",
        "print(df_plot)"
      ]
    },
    {
      "cell_type": "code",
      "execution_count": null,
      "id": "35bcea30",
      "metadata": {
        "id": "35bcea30",
        "outputId": "d14743b2-f869-4fa0-e0fe-90b7682239f9"
      },
      "outputs": [
        {
          "data": {
            "image/png": "[encoded data removed]",
            "text/plain": [
              "<Figure size 1200x600 with 1 Axes>"
            ]
          },
          "metadata": {},
          "output_type": "display_data"
        }
      ],
      "source": [
        "plt.figure(figsize=(12, 6))\n",
        "plt.plot(df_plot.index, df_plot['Miércoles'], marker='o', label='Miércoles')\n",
        "plt.plot(df_plot.index, df_plot['Sábado'], marker='o', label='Sábado')\n",
        "\n",
        "plt.title('Distribución de Pedidos por Hora del Día (Miércoles vs. Sábado)')\n",
        "plt.xlabel('Hora del Día')\n",
        "plt.ylabel('Número de Pedidos')\n",
        "plt.xticks(range(24)) # Asegura que todas las horas de 0 a 23 se muestren en el eje X\n",
        "plt.grid(True, linestyle='--', alpha=0.6)\n",
        "plt.legend()\n",
        "plt.show()"
      ]
    },
    {
      "cell_type": "markdown",
      "id": "charitable-congo",
      "metadata": {
        "id": "charitable-congo"
      },
      "source": [
        "Ambos dias muestran un patron diurno similar, en forma de campana durante el dia, y descenso marcado por la noche, pero hay algunas diferencias entre ambos dias.\n",
        "\n",
        "\n",
        "\n",
        "*   Miércoles: El pico de pedidos parece situarse alrededor de las 10 AM - 11 AM, con un ligero descenso y un posible segundo pico o una meseta entre las 13:00 y las 15:00 horas, antes de comenzar un descenso más pronunciado.\n",
        "*   Sábado: El sábado muestra un pico más claro y pronunciado más tarde en el día, alrededor de las 13 PM - 14 PM, alcanzando un volumen de pedidos ligeramente superior al pico de los miércoles.\n",
        "\n"
      ]
    },
    {
      "cell_type": "markdown",
      "id": "e3891143",
      "metadata": {
        "id": "e3891143"
      },
      "source": [
        "### [B2] ¿Cuál es la distribución para el número de pedidos por cliente?"
      ]
    },
    {
      "cell_type": "code",
      "execution_count": null,
      "id": "d8c26c23",
      "metadata": {
        "id": "d8c26c23",
        "outputId": "0c453da1-f704-4051-b1fd-b5358d236b68"
      },
      "outputs": [
        {
          "name": "stdout",
          "output_type": "stream",
          "text": [
            "Distribución del número de pedidos por cliente:\n",
            "1       7840\n",
            "2       9113\n",
            "3      10510\n",
            "4      12368\n",
            "5      10406\n",
            "       ...  \n",
            "96       133\n",
            "97       173\n",
            "98       148\n",
            "99       143\n",
            "100      194\n",
            "Name: order_number, Length: 100, dtype: int64\n"
          ]
        }
      ],
      "source": [
        "# Numero máximo de pedidos por cada usuario\n",
        "num_pedidos_por_cliente = df_instacart_orders.groupby('user_id')['order_number'].max()\n",
        "#Distribucion del numero de pedidos por cliente\n",
        "distribucion_pedidos_cliente = num_pedidos_por_cliente.value_counts().sort_index()\n",
        "print(\"Distribución del número de pedidos por cliente:\")\n",
        "print(distribucion_pedidos_cliente)\n"
      ]
    },
    {
      "cell_type": "code",
      "execution_count": null,
      "id": "00e69a66",
      "metadata": {
        "id": "00e69a66",
        "outputId": "b2668e7c-a09a-4556-d5f4-18c457b7fbae"
      },
      "outputs": [
        {
          "data": {
            "image/png": "[encoded data removed]",
            "text/plain": [
              "<Figure size 1500x700 with 1 Axes>"
            ]
          },
          "metadata": {},
          "output_type": "display_data"
        }
      ],
      "source": [
        "#Visualizacion en una gráfica\n",
        "plt.figure(figsize=(15, 7))\n",
        "\n",
        "# plt.bar para crear un gráfico de barras\n",
        "plt.bar(distribucion_pedidos_cliente.index, distribucion_pedidos_cliente.values, color='skyblue')\n",
        "\n",
        "plt.title('Distribución del Número de Pedidos por Cliente')\n",
        "plt.xlabel('Número de Pedidos por Cliente')\n",
        "plt.ylabel('Número de Clientes')\n",
        "plt.xticks(rotation=90)\n",
        "plt.grid(axis='y', linestyle='--', alpha=0.7)\n",
        "plt.show()"
      ]
    },
    {
      "cell_type": "markdown",
      "id": "d2eff7d5",
      "metadata": {
        "id": "d2eff7d5"
      },
      "source": [
        "La gran mayoría de los clientes en el dataset han realizado un número relativamente pequeño de pedidos.\n",
        "Hay progresivamente menos clientes que han realizado un número muy alto de pedidos, pero aunque son pocos en número, existen clientes extremadamente leales y frecuentes que han realizado una gran cantidad de pedidos."
      ]
    },
    {
      "cell_type": "markdown",
      "id": "54a0319c",
      "metadata": {
        "id": "54a0319c"
      },
      "source": [
        "### [B3] ¿Cuáles son los 20 productos más populares (muestra su ID y nombre)?"
      ]
    },
    {
      "cell_type": "code",
      "execution_count": null,
      "id": "exterior-arizona",
      "metadata": {
        "id": "exterior-arizona",
        "scrolled": true
      },
      "outputs": [],
      "source": [
        "#Contar la popularidad de cada producto\n",
        "product_popularity = df_order_products['product_id'].value_counts()"
      ]
    },
    {
      "cell_type": "code",
      "execution_count": null,
      "id": "universal-facial",
      "metadata": {
        "id": "universal-facial"
      },
      "outputs": [],
      "source": [
        "#Convertir la Serie a DataFrame para facilitar la unión\n",
        "product_popularity_df = product_popularity.reset_index()\n",
        "product_popularity_df.columns = ['product_id', 'order_count']"
      ]
    },
    {
      "cell_type": "code",
      "execution_count": null,
      "id": "bbcdd20b",
      "metadata": {
        "id": "bbcdd20b",
        "outputId": "609315d0-a7e2-40fa-8132-959ee962ec4b"
      },
      "outputs": [
        {
          "name": "stdout",
          "output_type": "stream",
          "text": [
            "Los 20 productos más populares:\n",
            "    product_id              product_name  order_count\n",
            "0        24852                    BANANA        66050\n",
            "1        13176    BAG OF ORGANIC BANANAS        53297\n",
            "2        21137      ORGANIC STRAWBERRIES        37039\n",
            "3        21903      ORGANIC BABY SPINACH        33971\n",
            "4        47209      ORGANIC HASS AVOCADO        29773\n",
            "5        47766           ORGANIC AVOCADO        24689\n",
            "6        47626               LARGE LEMON        21495\n",
            "7        16797              STRAWBERRIES        20018\n",
            "8        26209                     LIMES        19690\n",
            "9        27845        ORGANIC WHOLE MILK        19600\n",
            "10       27966       ORGANIC RASPBERRIES        19197\n",
            "11       22935      ORGANIC YELLOW ONION        15898\n",
            "12       24964            ORGANIC GARLIC        15292\n",
            "13       45007          ORGANIC ZUCCHINI        14584\n",
            "14       39275       ORGANIC BLUEBERRIES        13879\n",
            "15       49683            CUCUMBER KIRBY        13675\n",
            "16       28204        ORGANIC FUJI APPLE        12544\n",
            "17        5876             ORGANIC LEMON        12232\n",
            "18        8277  APPLE HONEYCRISP ORGANIC        11993\n",
            "19       40706    ORGANIC GRAPE TOMATOES        11781\n"
          ]
        }
      ],
      "source": [
        "#Unir con df_products para obtener los nombres de los productos\n",
        "popular_products_with_names = pd.merge(\n",
        "    product_popularity_df,\n",
        "    df_products[['product_id', 'product_name']],\n",
        "    on='product_id',\n",
        "    how='inner'\n",
        ")\n",
        "\n",
        "#Ordenar por el conteo de pedidos de forma descendente y seleccionar los top 20\n",
        "top_20_popular_products = popular_products_with_names.sort_values(by='order_count', ascending=False).head(20)\n",
        "\n",
        "print(\"Los 20 productos más populares:\")\n",
        "# Seleccionamos solo las columnas 'product_id' y 'product_name' como se solicitó\n",
        "print(top_20_popular_products[['product_id', 'product_name', 'order_count']])"
      ]
    },
    {
      "cell_type": "markdown",
      "id": "7df00f47",
      "metadata": {
        "id": "7df00f47"
      },
      "source": [
        "La lista de los 20 productos más populares en Instacart está compuesta principalmente por frutas y vegetales. Se observa una clara preferencia por las variantes orgánicas dentro de estas categorías."
      ]
    },
    {
      "cell_type": "markdown",
      "id": "gross-theme",
      "metadata": {
        "id": "gross-theme"
      },
      "source": [
        "# [C] Difícil (deben completarse todos para aprobar)\n",
        "\n",
        "1. ¿Cuántos artículos suelen comprar las personas en un pedido? ¿Cómo es la distribución?\n",
        "2. ¿Cuáles son los 20 principales artículos que vuelven a pedirse con mayor frecuencia (muestra sus nombres e IDs de los productos)?\n",
        "3. Para cada producto, ¿cuál es la tasa de repetición del pedido (número de repeticiones de pedido/total de pedidos?\n",
        "4. Para cada cliente, ¿qué proporción de los productos que pidió ya los había pedido? Calcula la tasa de repetición de pedido para cada usuario en lugar de para cada producto.\n",
        "5. ¿Cuáles son los 20 principales artículos que la gente pone primero en sus carritos (muestra las IDs de los productos, sus nombres, y el número de veces en que fueron el primer artículo en añadirse al carrito)?"
      ]
    },
    {
      "cell_type": "markdown",
      "id": "romantic-deposit",
      "metadata": {
        "id": "romantic-deposit"
      },
      "source": [
        "### [C1] ¿Cuántos artículos compran normalmente las personas en un pedido? ¿Cómo es la distribución?"
      ]
    },
    {
      "cell_type": "code",
      "execution_count": null,
      "id": "virtual-punch",
      "metadata": {
        "id": "virtual-punch",
        "outputId": "788257f1-0e9a-463f-8595-e86d0390fd82"
      },
      "outputs": [
        {
          "name": "stdout",
          "output_type": "stream",
          "text": [
            "Estadísticas descriptivas del número de artículos por pedido:\n",
            "count    450046.000000\n",
            "mean         10.098983\n",
            "std           7.540206\n",
            "min           1.000000\n",
            "25%           5.000000\n",
            "50%           8.000000\n",
            "75%          14.000000\n",
            "max         127.000000\n",
            "dtype: float64\n"
          ]
        }
      ],
      "source": [
        "# Contar el número de artículos por cada pedido\n",
        "articulos_por_pedido = df_order_products.groupby('order_id').size()\n",
        "# Calcular estadísticas descriptivas\n",
        "print(\"Estadísticas descriptivas del número de artículos por pedido:\")\n",
        "print(articulos_por_pedido.describe())\n"
      ]
    },
    {
      "cell_type": "code",
      "execution_count": null,
      "id": "sensitive-breathing",
      "metadata": {
        "id": "sensitive-breathing",
        "outputId": "716f1491-516f-45d2-ae53-73e3e42a758a"
      },
      "outputs": [
        {
          "name": "stdout",
          "output_type": "stream",
          "text": [
            "1     21847\n",
            "2     26292\n",
            "3     29046\n",
            "4     31054\n",
            "5     31923\n",
            "6     31698\n",
            "7     30822\n",
            "8     28539\n",
            "9     25742\n",
            "10    23248\n",
            "11    20406\n",
            "12    18539\n",
            "13    16497\n",
            "14    14472\n",
            "15    12696\n",
            "dtype: int64\n",
            "...\n",
            "76     2\n",
            "77     2\n",
            "78     2\n",
            "80     1\n",
            "85     1\n",
            "86     3\n",
            "87     1\n",
            "91     2\n",
            "92     2\n",
            "95     2\n",
            "98     1\n",
            "104    1\n",
            "108    1\n",
            "115    1\n",
            "127    1\n",
            "dtype: int64\n"
          ]
        }
      ],
      "source": [
        "# Obtener la distribución\n",
        "distribucion_articulos_por_pedido = articulos_por_pedido.value_counts().sort_index()\n",
        "\n",
        "print(distribucion_articulos_por_pedido.head(15)) # Muestra los primeros 15 valores (los más comunes)\n",
        "print(\"...\")\n",
        "print(distribucion_articulos_por_pedido.tail(15)) # Muestra los últimos 5 valores (pedidos muy grandes)"
      ]
    },
    {
      "cell_type": "code",
      "execution_count": null,
      "id": "completed-frank",
      "metadata": {
        "id": "completed-frank",
        "outputId": "a90566ac-e792-4ba9-c0a7-9df4a078f879"
      },
      "outputs": [
        {
          "data": {
            "image/png": "[encoded data removed]",
            "text/plain": [
              "<Figure size 1500x700 with 1 Axes>"
            ]
          },
          "metadata": {},
          "output_type": "display_data"
        }
      ],
      "source": [
        "#Visualizar la distribución\n",
        "plt.figure(figsize=(15, 7))\n",
        "\n",
        "plt.bar(distribucion_articulos_por_pedido.index, distribucion_articulos_por_pedido.values, color='lightgreen')\n",
        "\n",
        "plt.title('Distribución de Artículos por Pedido')\n",
        "plt.xlabel('Número de Artículos en un Pedido')\n",
        "plt.ylabel('Número de Pedidos')\n",
        "plt.xticks(rotation=45)\n",
        "plt.grid(axis='y', linestyle='--', alpha=0.7)\n",
        "plt.show()"
      ]
    },
    {
      "cell_type": "markdown",
      "id": "designed-mortality",
      "metadata": {
        "id": "designed-mortality"
      },
      "source": [
        "La media o promedio de artículos por pedido es de aproximadamente 10.1 artículos.\n",
        "Hay muchos pedidos pequeños (hasta 8-14 artículos), pero también existen algunos pedidos considerablemente grandes (hasta 127 artículos) que influyen en el promedio. La mayoría de los pedidos son relativamente pequeños."
      ]
    },
    {
      "cell_type": "markdown",
      "id": "5e6b5537",
      "metadata": {
        "id": "5e6b5537"
      },
      "source": [
        "### [C2] ¿Cuáles son los 20 principales artículos que vuelven a pedirse con mayor frecuencia (muestra sus nombres e IDs de los productos)?"
      ]
    },
    {
      "cell_type": "code",
      "execution_count": null,
      "id": "9374e55a",
      "metadata": {
        "id": "9374e55a"
      },
      "outputs": [],
      "source": [
        "# Filtrar el DataFrame para incluir solo los productos que fueron reordenados\n",
        "reordered_products = df_order_products[df_order_products['reordered'] == 1]\n",
        "\n",
        "# Contar la frecuencia de cada product_id en los productos reordenados\n",
        "reorder_counts = reordered_products['product_id'].value_counts()\n",
        "\n",
        "# Convertir la Serie a DataFrame y nombrar las columnas\n",
        "reorder_counts_df = reorder_counts.reset_index()\n",
        "reorder_counts_df.columns = ['product_id', 'reorder_count']"
      ]
    },
    {
      "cell_type": "code",
      "execution_count": null,
      "id": "possible-change",
      "metadata": {
        "id": "possible-change",
        "scrolled": true,
        "outputId": "32fdbe65-df27-4cb4-d29f-76ba95e79174"
      },
      "outputs": [
        {
          "name": "stdout",
          "output_type": "stream",
          "text": [
            "    product_id  reorder_count              product_name\n",
            "0        24852          55763                    BANANA\n",
            "1        13176          44450    BAG OF ORGANIC BANANAS\n",
            "2        21137          28639      ORGANIC STRAWBERRIES\n",
            "3        21903          26233      ORGANIC BABY SPINACH\n",
            "4        47209          23629      ORGANIC HASS AVOCADO\n",
            "5        47766          18743           ORGANIC AVOCADO\n",
            "6        27845          16251        ORGANIC WHOLE MILK\n",
            "7        47626          15044               LARGE LEMON\n",
            "8        27966          14748       ORGANIC RASPBERRIES\n",
            "9        16797          13945              STRAWBERRIES\n",
            "10       26209          13327                     LIMES\n",
            "11       22935          11145      ORGANIC YELLOW ONION\n",
            "12       24964          10411            ORGANIC GARLIC\n",
            "13       45007          10076          ORGANIC ZUCCHINI\n",
            "14       49683           9538            CUCUMBER KIRBY\n",
            "15       28204           8989        ORGANIC FUJI APPLE\n",
            "16        8277           8836  APPLE HONEYCRISP ORGANIC\n",
            "17       39275           8799       ORGANIC BLUEBERRIES\n",
            "18        5876           8412             ORGANIC LEMON\n",
            "19       49235           8389       ORGANIC HALF & HALF\n"
          ]
        }
      ],
      "source": [
        "# Unir con df_products para obtener los nombres de los productos\n",
        "top_reordered_products_with_names = pd.merge(\n",
        "    reorder_counts_df,\n",
        "    df_products[['product_id', 'product_name']],\n",
        "    on='product_id',\n",
        "    how='inner'\n",
        ")\n",
        "print(top_reordered_products_with_names.head(20))\n",
        "\n",
        "# Ordenar por el conteo de reordenamientos de forma descendente y seleccionar los top 20\n",
        "top_20_reordered = top_reordered_products_with_names.sort_values(by='reorder_count', ascending=False).head(20)"
      ]
    },
    {
      "cell_type": "markdown",
      "id": "80e70c74",
      "metadata": {
        "id": "80e70c74"
      },
      "source": [
        "La gran similitud entre los 20 productos más pedidos y los 20 productos más reordenados sugiere que los productos más populares en Instacart son también los productos que los clientes compran de forma recurrente como parte de sus compras habituales."
      ]
    },
    {
      "cell_type": "markdown",
      "id": "9d312b14",
      "metadata": {
        "id": "9d312b14"
      },
      "source": [
        "### [C3] Para cada producto, ¿cuál es la proporción de las veces que se pide y que se vuelve a pedir?"
      ]
    },
    {
      "cell_type": "code",
      "execution_count": null,
      "id": "8ae9f4b1",
      "metadata": {
        "id": "8ae9f4b1"
      },
      "outputs": [],
      "source": [
        "#Calcular el conteo total de pedidos por cada producto\n",
        "total_orders_per_product = df_order_products.groupby('product_id').size().reset_index(name='total_orders')\n",
        "\n",
        "#Calcular el conteo de reordenamientos por cada producto\n",
        "reorders_per_product = df_order_products[df_order_products['reordered'] == 1] \\\n",
        "                            .groupby('product_id').size().reset_index(name='reorder_count')"
      ]
    },
    {
      "cell_type": "code",
      "execution_count": null,
      "id": "103e7fe1",
      "metadata": {
        "id": "103e7fe1"
      },
      "outputs": [],
      "source": [
        "#Unir ambos conteos en un solo DataFrame\n",
        "#si un producto nunca fue reordenado, su 'reorder_count' será NaN.\n",
        "product_reorder_data = pd.merge(\n",
        "    total_orders_per_product,\n",
        "    reorders_per_product,\n",
        "    on='product_id',\n",
        "    how='left'\n",
        ")\n",
        "#Rellenar los NaN en 'reorder_count' con 0 (para productos que nunca se reordenaron)\n",
        "product_reorder_data['reorder_count'] = product_reorder_data['reorder_count'].fillna(0).astype(int)"
      ]
    },
    {
      "cell_type": "code",
      "execution_count": null,
      "id": "social-individual",
      "metadata": {
        "id": "social-individual",
        "outputId": "2ba7bcb7-50d3-48ef-bf1e-649e7c3eda4e"
      },
      "outputs": [
        {
          "name": "stdout",
          "output_type": "stream",
          "text": [
            "Productos con su proporción de reordenamiento:\n",
            "       product_id  total_orders  reorder_count  reorder_proportion  \\\n",
            "13453       14721             1              1                 1.0   \n",
            "19195       20949             3              3                 1.0   \n",
            "6136         6723            10             10                 1.0   \n",
            "6144         6732             3              3                 1.0   \n",
            "41319       45088             1              1                 1.0   \n",
            "41310       45078             1              1                 1.0   \n",
            "19258       21016             1              1                 1.0   \n",
            "19248       21005             2              2                 1.0   \n",
            "32273       35192             2              2                 1.0   \n",
            "32277       35197             1              1                 1.0   \n",
            "6211         6810             1              1                 1.0   \n",
            "41274       45040             2              2                 1.0   \n",
            "41269       45035            17             17                 1.0   \n",
            "25120       27373             1              1                 1.0   \n",
            "28203       30748             1              1                 1.0   \n",
            "41265       45031             6              6                 1.0   \n",
            "32224       35137             1              1                 1.0   \n",
            "28202       30747             4              4                 1.0   \n",
            "32304       35228             1              1                 1.0   \n",
            "32305       35229             4              4                 1.0   \n",
            "\n",
            "                                            product_name  \n",
            "13453                            BONE STRENGTH TAKE CARE  \n",
            "19195                           VANILLA SANDWICH COOKIES  \n",
            "6136                                    PALMIERS- PETITE  \n",
            "6144                   NATURALLY SPARKLING MINERAL WATER  \n",
            "41319  CALIFORNIA DILL POLLEN & GARLIC GOAT CHEESE & ...  \n",
            "41310                                       POMEGRANATEA  \n",
            "19258       PARCHMENT LINED 8 IN X 3.75 IN X 2.5 IN PANS  \n",
            "19248                        PEANUT BUTTER PIE ICE CREAM  \n",
            "32273                         CHOCOLATE SOY MILK SINGLES  \n",
            "32277  MOCHA CHOCOLATE CHIP  ORGANIC NON-DAIRY FROZEN...  \n",
            "6211                         RASPBERRY GOJI PALEO PRINTS  \n",
            "41274                                 HEAD LOCK MEGA GEL  \n",
            "41269                               COFFEE FLAVOR YOGURT  \n",
            "25120                                     MEAT LOAF MEAL  \n",
            "28203                           CHEESE & GARLIC CROUTONS  \n",
            "41265                 SUGAR FREE HAZELNUT COFFEE CREAMER  \n",
            "32224  SUPERIOR PREFERENCE FADE-DEFYING COLOR + SHINE...  \n",
            "28202                   DENTOTAPE® UNFLAVORED WAXED TAPE  \n",
            "32304                       MARVELOUS MUFFINS BAKING MIX  \n",
            "32305                             BEAN & CHEESE BURRITOS  \n"
          ]
        }
      ],
      "source": [
        "#Calcular la proporción de reordenamiento\n",
        "product_reorder_data['reorder_proportion'] = product_reorder_data['reorder_count'] / product_reorder_data['total_orders']\n",
        "\n",
        "#Unir con df_products para obtener los nombres de los productos\n",
        "product_reorder_proportion_with_names = pd.merge(\n",
        "    product_reorder_data,\n",
        "    df_products[['product_id', 'product_name']],\n",
        "    on='product_id',\n",
        "    how='inner'\n",
        ")\n",
        "\n",
        "print(\"Productos con su proporción de reordenamiento:\")\n",
        "# Ordenar por la proporción de reordenamiento de forma descendente para ver los más reordenados\n",
        "print(product_reorder_proportion_with_names.sort_values(by='reorder_proportion', ascending=False).head(20))\n"
      ]
    },
    {
      "cell_type": "markdown",
      "id": "I10dEIAyldcO",
      "metadata": {
        "id": "I10dEIAyldcO"
      },
      "source": [
        "Creo que faltaría filtrarlos y reordenarlos en cuales tienen un mayor volumen de pedidos para que sea significativa la proporcion de reordenamiento y estrategicamente importante."
      ]
    },
    {
      "cell_type": "markdown",
      "id": "subject-boxing",
      "metadata": {
        "id": "subject-boxing"
      },
      "source": [
        "### [C4] Para cada cliente, ¿qué proporción de sus productos ya los había pedido?"
      ]
    },
    {
      "cell_type": "code",
      "execution_count": null,
      "id": "medical-couple",
      "metadata": {
        "id": "medical-couple",
        "scrolled": true,
        "outputId": "72077f07-282a-46bf-c7f1-b89bcd932478"
      },
      "outputs": [
        {
          "name": "stdout",
          "output_type": "stream",
          "text": [
            "Estadísticas descriptivas de la proporción de reordenamiento por cliente:\n",
            "count    149626.000000\n",
            "mean          0.494853\n",
            "std           0.292685\n",
            "min           0.000000\n",
            "25%           0.272727\n",
            "50%           0.500000\n",
            "75%           0.724138\n",
            "max           1.000000\n",
            "Name: reorder_proportion_per_user, dtype: float64\n",
            "\n",
            "Primeros 10 clientes con su proporción de reordenamiento:\n",
            "   user_id  total_items_reordered  total_items_ordered  \\\n",
            "0        2                      1                   26   \n",
            "1        4                      0                    2   \n",
            "2        5                      8                   12   \n",
            "3        6                      0                    4   \n",
            "4        7                     13                   14   \n",
            "5       11                      3                   15   \n",
            "6       12                      3                   12   \n",
            "7       13                     13                   23   \n",
            "8       14                     22                   61   \n",
            "9       15                      7                   13   \n",
            "\n",
            "   reorder_proportion_per_user  \n",
            "0                     0.038462  \n",
            "1                     0.000000  \n",
            "2                     0.666667  \n",
            "3                     0.000000  \n",
            "4                     0.928571  \n",
            "5                     0.200000  \n",
            "6                     0.250000  \n",
            "7                     0.565217  \n",
            "8                     0.360656  \n",
            "9                     0.538462  \n"
          ]
        }
      ],
      "source": [
        "#Combinar df_order_products con df_instacart_orders\n",
        "df_combined = pd.merge(\n",
        "    df_order_products,\n",
        "    df_instacart_orders[['order_id', 'user_id']],\n",
        "    on='order_id',\n",
        "    how='inner'\n",
        ")\n",
        "\n",
        "# Agrupar por 'user_id'\n",
        "# Sumar el total de 'reordered' para obtener el conteo de ítems reordenados por cliente.\n",
        "# Contar el número total de ítems pedidos por cada cliente.\n",
        "user_reorder_summary = df_combined.groupby('user_id')['reordered'].agg(\n",
        "    total_items_reordered='sum',\n",
        "    total_items_ordered='count'\n",
        ").reset_index()\n",
        "\n",
        "#Calcular la proporción de reordenamiento por cliente\n",
        "user_reorder_summary['reorder_proportion_per_user'] = user_reorder_summary['total_items_reordered'] / user_reorder_summary['total_items_ordered']\n",
        "\n",
        "# Mostrar las estadísticas descriptivas de esta proporción a nivel de usuario\n",
        "print(\"Estadísticas descriptivas de la proporción de reordenamiento por cliente:\")\n",
        "print(user_reorder_summary['reorder_proportion_per_user'].describe())\n",
        "\n",
        "# Mostrar los primeros clientes y su proporción de reordenamiento\n",
        "print(\"\\nPrimeros 10 clientes con su proporción de reordenamiento:\")\n",
        "print(user_reorder_summary.head(10))\n"
      ]
    },
    {
      "cell_type": "code",
      "execution_count": null,
      "id": "8892e4b4",
      "metadata": {
        "id": "8892e4b4",
        "outputId": "93d08e0b-2ac8-4c5e-a5c5-7f1c9c18e7b9"
      },
      "outputs": [
        {
          "data": {
            "image/png": "[encoded data removed]",
            "text/plain": [
              "<Figure size 1000x600 with 1 Axes>"
            ]
          },
          "metadata": {},
          "output_type": "display_data"
        }
      ],
      "source": [
        "#Visualizar la distribución de la proporción de reordenamiento por cliente\n",
        "import matplotlib.pyplot as plt\n",
        "\n",
        "plt.figure(figsize=(10, 6))\n",
        "plt.hist(user_reorder_summary['reorder_proportion_per_user'], bins=30, edgecolor='black', color='lightcoral')\n",
        "plt.title('Distribución de la Proporción de Reordenamiento por Cliente')\n",
        "plt.xlabel('Proporción de Ítems Reordenados')\n",
        "plt.ylabel('Número de Clientes')\n",
        "plt.grid(axis='y', linestyle='--', alpha=0.7)\n",
        "plt.tight_layout()\n",
        "plt.show()"
      ]
    },
    {
      "cell_type": "markdown",
      "id": "BgJSvXDsleXz",
      "metadata": {
        "id": "BgJSvXDsleXz"
      },
      "source": [
        "El gráfico de distribución de la proporción de reordenamiento por cliente nos revela que Instacart tiene una base de clientes polarizada:\n",
        "* Clientes \"nuevos/ocasional\": Aquellos con baja proporción de reordenamiento.\n",
        "* Clientes \"leales/básicos\": Aquellos con alta proporción de reordenamiento.\n",
        "* Clientes \"intermedios\": Aquellos que podrían ser influenciados para aumentar su reordenamiento.\n",
        "\n",
        "Entender estos segmentos es fundamental para el diseño de estrategias comerciales."
      ]
    },
    {
      "cell_type": "markdown",
      "id": "92d35137",
      "metadata": {
        "id": "92d35137"
      },
      "source": [
        "### [C5] ¿Cuáles son los 20 principales artículos que las personas ponen primero en sus carritos?"
      ]
    },
    {
      "cell_type": "code",
      "execution_count": null,
      "id": "0ae57274",
      "metadata": {
        "id": "0ae57274",
        "scrolled": true
      },
      "outputs": [],
      "source": [
        "#Filtrar el DataFrame para incluir solo los productos que fueron añadidos primero al carrito\n",
        "# Ignoramos los valores NaN en 'add_to_cart_order' para este análisis, ya que representan un problema en el registro, no que el producto no fuera el primero.\n",
        "first_in_cart_products = df_order_products[df_order_products['add_to_cart_order'] == 1]\n",
        "\n",
        "# Contar la frecuencia de cada product_id en esta selección\n",
        "first_in_cart_counts = first_in_cart_products['product_id'].value_counts()\n",
        "\n",
        "# Convertir la Serie a DataFrame y nombrar las columnas\n",
        "first_in_cart_df = first_in_cart_counts.reset_index()\n",
        "first_in_cart_df.columns = ['product_id', 'first_in_cart_count']\n",
        "\n"
      ]
    },
    {
      "cell_type": "code",
      "execution_count": null,
      "id": "forty-netherlands",
      "metadata": {
        "id": "forty-netherlands",
        "scrolled": true,
        "outputId": "f080698c-cfad-48c6-83fc-3cf4ab3a3acd"
      },
      "outputs": [
        {
          "name": "stdout",
          "output_type": "stream",
          "text": [
            "Los 20 principales artículos que las personas ponen primero en sus carritos:\n",
            "    product_id                 product_name  first_in_cart_count\n",
            "0        24852                       BANANA                15562\n",
            "1        13176       BAG OF ORGANIC BANANAS                11026\n",
            "2        27845           ORGANIC WHOLE MILK                 4363\n",
            "3        21137         ORGANIC STRAWBERRIES                 3946\n",
            "4        47209         ORGANIC HASS AVOCADO                 3390\n",
            "5        21903         ORGANIC BABY SPINACH                 3336\n",
            "6        47766              ORGANIC AVOCADO                 3044\n",
            "7        19660                 SPRING WATER                 2336\n",
            "8        16797                 STRAWBERRIES                 2308\n",
            "9        27966          ORGANIC RASPBERRIES                 2024\n",
            "10       44632   SPARKLING WATER GRAPEFRUIT                 1914\n",
            "11       49235          ORGANIC HALF & HALF                 1797\n",
            "12       47626                  LARGE LEMON                 1737\n",
            "13         196                         SODA                 1733\n",
            "14       38689     ORGANIC REDUCED FAT MILK                 1397\n",
            "15       26209                        LIMES                 1370\n",
            "16       12341                HASS AVOCADOS                 1340\n",
            "17        5785  ORGANIC REDUCED FAT 2% MILK                 1310\n",
            "18       27086                  HALF & HALF                 1309\n",
            "19       22935         ORGANIC YELLOW ONION                 1246\n"
          ]
        }
      ],
      "source": [
        "# Unir con df_products para obtener los nombres de los productos\n",
        "top_first_in_cart_with_names = pd.merge(\n",
        "    first_in_cart_df,\n",
        "    df_products[['product_id', 'product_name']],\n",
        "    on='product_id',\n",
        "    how='inner'\n",
        ")\n",
        "\n",
        "#Ordenar por el conteo de 'primeros en carrito' de forma descendente y seleccionar los top 20\n",
        "top_20_first_in_cart = top_first_in_cart_with_names.sort_values(by='first_in_cart_count', ascending=False).head(20)\n",
        "\n",
        "print(\"Los 20 principales artículos que las personas ponen primero en sus carritos:\")\n",
        "# Mostrar las columnas product_id, product_name y first_in_cart_count\n",
        "print(top_20_first_in_cart[['product_id', 'product_name', 'first_in_cart_count']])"
      ]
    },
    {
      "cell_type": "markdown",
      "id": "28ce9872",
      "metadata": {
        "id": "28ce9872"
      },
      "source": [
        "Los productos que los clientes suelen añadir primero a sus carritos son, en gran medida, los mismos productos frescos y básicos que dominan las listas de popularidad y reordenamiento.\n",
        "La presencia de Spring Water, Sparkling Water Grapefruit, Soda y Organic Half & Half en esta lista de \"primeros artículos\" también es notable, sugiriendo que las bebidas y algunos lácteos son a menudo el punto de partida"
      ]
    },
    {
      "cell_type": "markdown",
      "id": "uITbFCEoDosC",
      "metadata": {
        "id": "uITbFCEoDosC"
      },
      "source": [
        "### Conclusion general del proyecto:"
      ]
    },
    {
      "cell_type": "markdown",
      "id": "1ed5970e-440b-4d29-9911-07f235a41c0e",
      "metadata": {
        "id": "1ed5970e-440b-4d29-9911-07f235a41c0e"
      },
      "source": [
        "Conclusiones Estratégicas del Análisis de Datos de Instacart\n",
        "\n",
        "Este análisis ofrece una visión clara del comportamiento de compra y la popularidad de los productos.\n",
        "\n",
        "1. Calidad de Datos Mejorada, Confiabilidad Asegurada:\n",
        "* Problema: Identificamos y eliminamos órdenes duplicadas. Un patrón inusual (miércoles a las 2 a.m.) sugiere un error técnico en el sistema de registro.\n",
        "* Acción: La eliminación de estos duplicados garantiza que nuestras métricas de órdenes y ventas sean precisas, evitando sobreestimaciones.\n",
        "* Impacto para el Negocio: Decisiones basadas en datos limpios, lo que conduce a una asignación de recursos más eficiente y evaluaciones de rendimiento realistas.\n",
        "\n",
        "2. Entendiendo el Comportamiento de Recompra:\n",
        "* Hallazgo: La \"Banana\", \"Bag of Organic Bananas\" y \"Organic Strawberries\" son consistentemente los productos más vendidos y, crucialmente, los más reordenados.\n",
        "* Hallazgo: Un número significativo de productos tienen una tasa de reordenamiento del 100%, lo que indica una alta lealtad o necesidad recurrente para esos ítems específicos, aunque esto puede ser en un volumen bajo de pedidos.\n",
        "* Sugerencia:\n",
        "* Gestión de Inventario: Asegurar una disponibilidad constante y niveles de stock óptimos para los productos de alta recompra.\n",
        "* Promociones Dirigidas: Considerar ofertas para estos productos populares para incentivar compras más grandes o frecuentes, o para utilizarlos como \"gancho\" para ventas cruzadas.\n",
        "* Experiencia del Usuario: Facilitar la reordenación rápida de estos productos en la aplicación o sitio web, ya que son esenciales para la recurrencia del cliente.\n",
        "\n",
        "3. Identificando Productos \"Primeros en Carrito\":\n",
        "* Hallazgo: La \"Banana\", \"Bag of Organic Bananas\" y \"Organic Milk\" son también los artículos que los clientes añaden con mayor frecuencia como primer producto a su carrito.\n",
        "* Sugerencia:\n",
        "* Diseño de la Interfaz: Colocar estos productos destacados en la página de inicio o en recomendaciones visibles para agilizar el proceso de compra.\n",
        "* Marketing en la Aplicación: Utilizar estos productos como base para sugerencias personalizadas, ya que marcan el inicio de una sesión de compra.\n",
        "\n",
        "4. Comportamiento del Cliente y Frecuencia de Pedidos:\n",
        "* Hallazgo: La mayoría de los clientes realizan un número relativamente bajo de pedidos (entre 1 y 5), pero hay una cola larga de clientes que hacen muchos pedidos (hasta 100).\n",
        "* Sugerencia:\n",
        "* Estrategias de Retención: Desarrollar programas de lealtad o incentivos para motivar a los clientes de baja frecuencia a realizar más pedidos.\n",
        "* Segmentación de Clientes: Implementar estrategias diferenciadas para clientes de alta y baja frecuencia, reconociendo las distintas necesidades y patrones de compra.\n",
        "\n",
        "5. Oportunidad con Datos Faltantes:\n",
        "* Problema: Un grupo significativo de productos (1,258) tenían nombres ausentes y estaban clasificados en un \"pasillo 100\" y \"departamento 21\" que no existen en las categorías conocidas.\n",
        "* Sugerencia: Investigar la causa de estos datos \"desconocidos\". Podrían ser categorías nuevas, productos descontinuados, o un error en la carga de datos. Resolver esto podría revelar nuevos segmentos de productos o la necesidad de ajustar las categorías actuales.\n",
        "\n",
        "En resumen, el análisis ha proporcionado una base de datos robusta y ha revelado patrones claros en el comportamiento de compra. Las sugerencias se centran en capitalizar la popularidad de ciertos productos, optimizar la experiencia de usuario y refinar la gestión del catálogo para impulsar el crecimiento y la eficiencia operativa."
      ]
    }
  ],
  "metadata": {
    "colab": {
      "provenance": []
    },
    "kernelspec": {
      "display_name": "Python 3 (ipykernel)",
      "language": "python",
      "name": "python3"
    },
    "language_info": {
      "codemirror_mode": {
        "name": "ipython",
        "version": 3
      },
      "file_extension": ".py",
      "mimetype": "text/x-python",
      "name": "python",
      "nbconvert_exporter": "python",
      "pygments_lexer": "ipython3",
      "version": "3.9.23"
    },
    "vscode": {
      "interpreter": {
        "hash": "01a7be9ec63e704a62cefc5fe7a4756944464ee731be31632bdf42a4cb4688cf"
      }
    }
  },
  "nbformat": 4,
  "nbformat_minor": 5
}